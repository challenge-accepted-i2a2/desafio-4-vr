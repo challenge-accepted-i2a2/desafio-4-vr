{
  "cells": [
    {
      "cell_type": "markdown",
      "metadata": {},
      "source": [
        "# Automação da Compra de VR/VA - Jupyter Notebook Completo\n",
        "\n",
        "Este notebook contém todo o código desenvolvido para automatizar o processo mensal de compra de Vale Refeição (VR), garantindo que cada colaborador receba o valor correto considerando ausências, férias, datas de admissão/desligamento e calendário de feriados.\n",
        "\n",
        "## Objetivo\n",
        "- Consolidar múltiplas bases de dados\n",
        "- Aplicar regras de negócio e exclusões\n",
        "- Calcular valores corretos de VR por colaborador\n",
        "- Gerar planilha final para fornecedor\n",
        "\n",
        "---"
      ]
    },
    {
      "cell_type": "markdown",
      "metadata": {},
      "source": [
        "## 1. Importação das Bibliotecas"
      ]
    },
    {
      "cell_type": "code",
      "execution_count": 1,
      "metadata": {},
      "outputs": [
        {
          "name": "stdout",
          "output_type": "stream",
          "text": [
            "Bibliotecas importadas com sucesso!\n"
          ]
        }
      ],
      "source": [
        "import pandas as pd\n",
        "import numpy as np\n",
        "from datetime import datetime, timedelta\n",
        "import warnings\n",
        "warnings.filterwarnings('ignore')\n",
        "\n",
        "print(\"Bibliotecas importadas com sucesso!\")"
      ]
    },
    {
      "cell_type": "markdown",
      "metadata": {},
      "source": [
        "## 2. Carregamento dos Dados\n",
        "\n",
        "Carregamento de todas as bases de dados necessárias para o processamento."
      ]
    },
    {
      "cell_type": "code",
      "execution_count": 2,
      "metadata": {},
      "outputs": [
        {
          "name": "stdout",
          "output_type": "stream",
          "text": [
            "Carregando arquivos...\n",
            "1. Admissões Abril: (83, 4)\n",
            "2. Afastamentos: (20, 4)\n",
            "3. Aprendizes: (33, 2)\n",
            "4. Ativos: (1815, 5)\n",
            "5. Base dias úteis: (5, 2)\n",
            "6. Base sindicato x valor: (5, 2)\n",
            "7. Desligados: (51, 3)\n",
            "8. Estágio: (27, 3)\n",
            "9. Exterior: (4, 3)\n",
            "10. Férias: (80, 3)\n",
            "\n",
            "Todos os arquivos carregados com sucesso!\n"
          ]
        }
      ],
      "source": [
        "# Carregar todos os arquivos Excel\n",
        "print(\"Carregando arquivos...\")\n",
        "\n",
        "# 1. Admissões Abril\n",
        "admissoes = pd.read_excel('ADMISSAO-ABRIL.xlsx')\n",
        "print(f\"1. Admissões Abril: {admissoes.shape}\")\n",
        "\n",
        "# 2. Afastamentos\n",
        "afastamentos = pd.read_excel('AFASTAMENTOS.xlsx')\n",
        "print(f\"2. Afastamentos: {afastamentos.shape}\")\n",
        "\n",
        "# 3. Aprendizes\n",
        "aprendizes = pd.read_excel('APRENDIZ.xlsx')\n",
        "print(f\"3. Aprendizes: {aprendizes.shape}\")\n",
        "\n",
        "# 4. Ativos\n",
        "ativos = pd.read_excel('ATIVOS.xlsx', sheet_name='ATIVOS')\n",
        "print(f\"4. Ativos: {ativos.shape}\")\n",
        "\n",
        "# 5. Base dias úteis\n",
        "dias_uteis = pd.read_excel('Base-dias-uteis.xlsx')\n",
        "print(f\"5. Base dias úteis: {dias_uteis.shape}\")\n",
        "\n",
        "# 6. Base sindicato x valor\n",
        "sindicato_valor = pd.read_excel('Base-sindicato-x-valor.xlsx')\n",
        "print(f\"6. Base sindicato x valor: {sindicato_valor.shape}\")\n",
        "\n",
        "# 7. Desligados\n",
        "desligados = pd.read_excel('DESLIGADOS.xlsx', sheet_name='DESLIGADOS ')\n",
        "print(f\"7. Desligados: {desligados.shape}\")\n",
        "\n",
        "# 8. Estágio\n",
        "estagio = pd.read_excel('ESTAGIO.xlsx')\n",
        "print(f\"8. Estágio: {estagio.shape}\")\n",
        "\n",
        "# 9. Exterior\n",
        "exterior = pd.read_excel('EXTERIOR.xlsx')\n",
        "print(f\"9. Exterior: {exterior.shape}\")\n",
        "\n",
        "# 10. Férias\n",
        "ferias = pd.read_excel('FERIAS.xlsx')\n",
        "print(f\"10. Férias: {ferias.shape}\")\n",
        "\n",
        "print(\"\\nTodos os arquivos carregados com sucesso!\")"
      ]
    },
    {
      "cell_type": "markdown",
      "metadata": {},
      "source": [
        "## 3. Análise Inicial dos Dados\n",
        "\n",
        "Exploração inicial das bases para entender a estrutura dos dados."
      ]
    },
    {
      "cell_type": "code",
      "execution_count": 3,
      "metadata": {},
      "outputs": [
        {
          "name": "stdout",
          "output_type": "stream",
          "text": [
            "=== ANÁLISE DOS DADOS ===\n",
            "\n",
            "COLABORADORES ATIVOS:\n",
            "Total: 1815 colaboradores\n",
            "Sindicatos únicos: 4\n",
            "\n",
            "Distribuição por sindicato:\n",
            "Sindicato\n",
            "SINDPPD RS - SINDICATO DOS TRAB. EM PROC. DE DADOS RIO GRANDE DO SUL                              1150\n",
            "SINDPD SP - SIND.TRAB.EM PROC DADOS E EMPR.EMPRESAS PROC DADOS ESTADO DE SP.                       423\n",
            "SITEPD PR - SIND DOS TRAB EM EMPR PRIVADAS DE PROC DE DADOS DE CURITIBA E REGIAO METROPOLITANA     140\n",
            "SINDPD RJ - SINDICATO PROFISSIONAIS DE PROC DADOS DO RIO DE JANEIRO                                102\n",
            "Name: count, dtype: int64\n",
            "\n",
            "ADMISSÕES ABRIL:\n",
            "count                               83\n",
            "mean     2025-04-10 16:46:15.903614464\n",
            "min                2025-04-01 00:00:00\n",
            "25%                2025-04-02 00:00:00\n",
            "50%                2025-04-08 00:00:00\n",
            "75%                2025-04-17 00:00:00\n",
            "max                2025-04-28 00:00:00\n",
            "Name: Admissão, dtype: object\n",
            "\n",
            "COLABORADORES EM FÉRIAS:\n",
            "Total: 80 colaboradores\n",
            "Distribuição de dias de férias:\n",
            "DIAS DE FÉRIAS\n",
            "5     21\n",
            "10    12\n",
            "15    12\n",
            "20    11\n",
            "30    24\n",
            "Name: count, dtype: int64\n",
            "\n"
          ]
        }
      ],
      "source": [
        "# Análise das principais bases\n",
        "print(\"=== ANÁLISE DOS DADOS ===\\n\")\n",
        "\n",
        "print(\"COLABORADORES ATIVOS:\")\n",
        "print(f\"Total: {len(ativos)} colaboradores\")\n",
        "print(f\"Sindicatos únicos: {ativos['Sindicato'].nunique()}\")\n",
        "print(\"\\nDistribuição por sindicato:\")\n",
        "print(ativos['Sindicato'].value_counts())\n",
        "print()\n",
        "\n",
        "print(\"ADMISSÕES ABRIL:\")\n",
        "print(admissoes['Admissão'].describe())\n",
        "print()\n",
        "\n",
        "print(\"COLABORADORES EM FÉRIAS:\")\n",
        "print(f\"Total: {len(ferias)} colaboradores\")\n",
        "print(\"Distribuição de dias de férias:\")\n",
        "print(ferias['DIAS DE FÉRIAS'].value_counts().sort_index())\n",
        "print()"
      ]
    },
    {
      "cell_type": "markdown",
      "metadata": {},
      "source": [
        "## 4. Limpeza e Configuração dos Dados Base"
      ]
    },
    {
      "cell_type": "code",
      "execution_count": 4,
      "metadata": {},
      "outputs": [
        {
          "name": "stdout",
          "output_type": "stream",
          "text": [
            "DIAS ÚTEIS POR SINDICATO:\n",
            "                                           SINDICATO DIAS_UTEIS\n",
            "1  SITEPD PR - SIND DOS TRAB EM EMPR PRIVADAS DE ...         22\n",
            "2  SINDPPD RS - SINDICATO DOS TRAB. EM PROC. DE D...         21\n",
            "3  SINDPD SP - SIND.TRAB.EM PROC DADOS E EMPR.EMP...         22\n",
            "4  SINDPD RJ - SINDICATO PROFISSIONAIS DE PROC DA...         21\n",
            "\n",
            "VALORES POR ESTADO:\n",
            "  ESTADO                                                       VALOR\n",
            "0                                             Paraná            35.0\n",
            "1                                     Rio de Janeiro            35.0\n",
            "2                                  Rio Grande do Sul            35.0\n",
            "3                                          São Paulo            37.5\n",
            "\n",
            "Colunas dos desligados corrigidas.\n"
          ]
        }
      ],
      "source": [
        "# Limpeza da base de dias úteis\n",
        "dias_uteis_clean = dias_uteis.iloc[1:].copy()  # Remove header row\n",
        "dias_uteis_clean.columns = ['SINDICATO', 'DIAS_UTEIS']\n",
        "dias_uteis_clean = dias_uteis_clean.dropna()\n",
        "print(\"DIAS ÚTEIS POR SINDICATO:\")\n",
        "print(dias_uteis_clean)\n",
        "print()\n",
        "\n",
        "# Limpeza da base de valores por sindicato/estado\n",
        "sindicato_valor_clean = sindicato_valor.dropna()\n",
        "print(\"VALORES POR ESTADO:\")\n",
        "print(sindicato_valor_clean)\n",
        "print()\n",
        "\n",
        "# Corrigir nomes das colunas se necessário\n",
        "desligados.columns = desligados.columns.str.strip()  # Remove espaços\n",
        "print(\"Colunas dos desligados corrigidas.\")"
      ]
    },
    {
      "cell_type": "markdown",
      "metadata": {},
      "source": [
        "## 5. Configuração dos Mapeamentos"
      ]
    },
    {
      "cell_type": "code",
      "execution_count": 5,
      "metadata": {},
      "outputs": [
        {
          "name": "stdout",
          "output_type": "stream",
          "text": [
            "CONFIGURAÇÕES:\n",
            "Estados mapeados: 4\n",
            "Valores por estado: {'Paraná': 35.0, 'Rio de Janeiro': 35.0, 'Rio Grande do Sul': 35.0, 'São Paulo': 37.5}\n",
            "Dias úteis: {'SITEPD PR - SIND DOS TRAB EM EMPR PRIVADAS DE PROC DE DADOS DE CURITIBA E REGIAO METROPOLITANA': 22, 'SINDPPD RS - SINDICATO DOS TRAB. EM PROC. DE DADOS RIO GRANDE DO SUL': 21, 'SINDPD SP - SIND.TRAB.EM PROC DADOS E EMPR.EMPRESAS PROC DADOS ESTADO DE SP.': 22, 'SINDPD RJ - SINDICATO PROFISSIONAIS DE PROC DADOS DO RIO DE JANEIRO': 21}\n",
            "\n",
            "✓ Configuração concluída\n"
          ]
        }
      ],
      "source": [
        "# Dicionários de mapeamento\n",
        "mapeamento_sindicato_estado = {\n",
        "    'SINDPPD RS - SINDICATO DOS TRAB. EM PROC. DE DADOS RIO GRANDE DO SUL': 'Rio Grande do Sul',\n",
        "    'SINDPD SP - SIND.TRAB.EM PROC DADOS E EMPR.EMPRESAS PROC DADOS ESTADO DE SP.': 'São Paulo',\n",
        "    'SINDPD RJ - SINDICATO PROFISSIONAIS DE PROC DADOS DO RIO DE JANEIRO': 'Rio de Janeiro',\n",
        "    'SITEPD PR - SIND DOS TRAB EM EMPR PRIVADAS DE PROC DE DADOS DE CURITIBA E REGIAO METROPOLITANA': 'Paraná'\n",
        "}\n",
        "\n",
        "# Valores por estado\n",
        "valores_estado = {'Paraná': 35.0, 'Rio de Janeiro': 35.0, 'Rio Grande do Sul': 35.0, 'São Paulo': 37.5}\n",
        "\n",
        "# Dias úteis por sindicato\n",
        "dias_uteis_dict = dict(zip(dias_uteis_clean['SINDICATO'], dias_uteis_clean['DIAS_UTEIS'].astype(int)))\n",
        "\n",
        "print(\"CONFIGURAÇÕES:\")\n",
        "print(f\"Estados mapeados: {len(mapeamento_sindicato_estado)}\")\n",
        "print(f\"Valores por estado: {valores_estado}\")\n",
        "print(f\"Dias úteis: {dias_uteis_dict}\")\n",
        "print(\"\\n✓ Configuração concluída\")"
      ]
    },
    {
      "cell_type": "markdown",
      "metadata": {},
      "source": [
        "## 6. Criação das Listas de Exclusão\n",
        "\n",
        "Identificação de colaboradores que devem ser excluídos do cálculo de VR conforme regras de negócio."
      ]
    },
    {
      "cell_type": "code",
      "execution_count": 6,
      "metadata": {},
      "outputs": [
        {
          "name": "stdout",
          "output_type": "stream",
          "text": [
            "=== CRIAÇÃO DE LISTAS DE EXCLUSÃO ===\n",
            "\n",
            "Afastados: 20 colaboradores\n",
            "Aprendizes: 33 colaboradores\n",
            "Estagiários: 27 colaboradores\n",
            "Exterior: 4 colaboradores\n",
            "Desligados até dia 15 (excluir): 39 colaboradores\n",
            "Desligados após dia 15 (proporcional): 12 colaboradores\n",
            "\n",
            "Total de exclusões completas: 123 colaboradores\n"
          ]
        }
      ],
      "source": [
        "print(\"=== CRIAÇÃO DE LISTAS DE EXCLUSÃO ===\\n\")\n",
        "\n",
        "# Matrículas a serem excluídas\n",
        "matriculas_afastados = set(afastamentos['MATRICULA'].dropna())\n",
        "matriculas_aprendizes = set(aprendizes['MATRICULA'].dropna())\n",
        "matriculas_estagiarios = set(estagio['MATRICULA'].dropna())\n",
        "matriculas_exterior = set(exterior['Cadastro'].dropna())\n",
        "\n",
        "# Análise dos desligados com regras especiais\n",
        "desligados_ate_dia_15 = []\n",
        "desligados_apos_dia_15 = []\n",
        "\n",
        "for _, row in desligados.iterrows():\n",
        "    data_demissao = pd.to_datetime(row['DATA DEMISSÃO'])\n",
        "    comunicado = row['COMUNICADO DE DESLIGAMENTO']\n",
        "    matricula = row['MATRICULA']\n",
        "    \n",
        "    # Se desligamento até dia 15 E comunicado OK -> não comprar VR\n",
        "    if data_demissao.day <= 15 and comunicado == 'OK':\n",
        "        desligados_ate_dia_15.append(matricula)\n",
        "    else:\n",
        "        # Se desligamento após dia 15 OU sem comunicado OK -> compra proporcional\n",
        "        desligados_apos_dia_15.append(matricula)\n",
        "\n",
        "print(f\"Afastados: {len(matriculas_afastados)} colaboradores\")\n",
        "print(f\"Aprendizes: {len(matriculas_aprendizes)} colaboradores\")\n",
        "print(f\"Estagiários: {len(matriculas_estagiarios)} colaboradores\")\n",
        "print(f\"Exterior: {len(matriculas_exterior)} colaboradores\")\n",
        "print(f\"Desligados até dia 15 (excluir): {len(desligados_ate_dia_15)} colaboradores\")\n",
        "print(f\"Desligados após dia 15 (proporcional): {len(desligados_apos_dia_15)} colaboradores\")\n",
        "\n",
        "# Total de exclusões completas\n",
        "exclusoes_completas = matriculas_afastados | matriculas_aprendizes | matriculas_estagiarios | matriculas_exterior | set(desligados_ate_dia_15)\n",
        "print(f\"\\nTotal de exclusões completas: {len(exclusoes_completas)} colaboradores\")"
      ]
    },
    {
      "cell_type": "markdown",
      "metadata": {},
      "source": [
        "## 7. Consolidação da Base de Colaboradores Elegíveis"
      ]
    },
    {
      "cell_type": "code",
      "execution_count": 7,
      "metadata": {},
      "outputs": [
        {
          "name": "stdout",
          "output_type": "stream",
          "text": [
            "=== CONSOLIDAÇÃO DA BASE ===\n",
            "\n",
            "Colaboradores ativos inicial: 1815\n",
            "Colaboradores elegíveis após exclusões: 1792\n",
            "\n",
            "Verificação de mapeamentos:\n",
            "Colaboradores sem estado mapeado: 0\n",
            "Colaboradores sem valor VR: 0\n",
            "Colaboradores sem dias úteis: 0\n",
            "\n",
            "✓ Base consolidada com sucesso\n"
          ]
        }
      ],
      "source": [
        "print(\"=== CONSOLIDAÇÃO DA BASE ===\\n\")\n",
        "\n",
        "# Partir da base de ativos\n",
        "base_consolidada = ativos.copy()\n",
        "\n",
        "# Filtrar colaboradores elegíveis (remover exclusões completas)\n",
        "base_consolidada = base_consolidada[~base_consolidada['MATRICULA'].isin(exclusoes_completas)]\n",
        "\n",
        "print(f\"Colaboradores ativos inicial: {len(ativos)}\")\n",
        "print(f\"Colaboradores elegíveis após exclusões: {len(base_consolidada)}\")\n",
        "\n",
        "# Mapear estado e valor diário por sindicato\n",
        "base_consolidada['ESTADO'] = base_consolidada['Sindicato'].map(mapeamento_sindicato_estado)\n",
        "base_consolidada['VALOR_DIARIO_VR'] = base_consolidada['ESTADO'].map(valores_estado)\n",
        "base_consolidada['DIAS_UTEIS_SINDICATO'] = base_consolidada['Sindicato'].map(dias_uteis_dict)\n",
        "\n",
        "# Verificar mapeamentos\n",
        "print(\"\\nVerificação de mapeamentos:\")\n",
        "print(f\"Colaboradores sem estado mapeado: {base_consolidada['ESTADO'].isna().sum()}\")\n",
        "print(f\"Colaboradores sem valor VR: {base_consolidada['VALOR_DIARIO_VR'].isna().sum()}\")\n",
        "print(f\"Colaboradores sem dias úteis: {base_consolidada['DIAS_UTEIS_SINDICATO'].isna().sum()}\")\n",
        "\n",
        "print(\"\\n✓ Base consolidada com sucesso\")"
      ]
    },
    {
      "cell_type": "markdown",
      "metadata": {},
      "source": [
        "## 8. Adição de Informações de Férias e Desligamentos"
      ]
    },
    {
      "cell_type": "code",
      "execution_count": 8,
      "metadata": {},
      "outputs": [
        {
          "name": "stdout",
          "output_type": "stream",
          "text": [
            "=== ADIÇÃO DE INFORMAÇÕES COMPLEMENTARES ===\n",
            "\n",
            "Colaboradores em férias: 76\n",
            "Colaboradores com desligamento proporcional: 1\n",
            "\n",
            "✓ Informações complementares adicionadas\n"
          ]
        }
      ],
      "source": [
        "print(\"=== ADIÇÃO DE INFORMAÇÕES COMPLEMENTARES ===\\n\")\n",
        "\n",
        "# Criar dicionário de férias\n",
        "ferias_dict = dict(zip(ferias['MATRICULA'], ferias['DIAS DE FÉRIAS']))\n",
        "\n",
        "# Adicionar informações de férias\n",
        "base_consolidada['DIAS_FERIAS'] = base_consolidada['MATRICULA'].map(ferias_dict).fillna(0)\n",
        "\n",
        "print(f\"Colaboradores em férias: {(base_consolidada['DIAS_FERIAS'] > 0).sum()}\")\n",
        "\n",
        "# Criar dicionário de datas de desligamento\n",
        "desligamento_dict = {}\n",
        "for _, row in desligados.iterrows():\n",
        "    if row['MATRICULA'] in desligados_apos_dia_15:\n",
        "        data_demissao = pd.to_datetime(row['DATA DEMISSÃO'])\n",
        "        desligamento_dict[row['MATRICULA']] = data_demissao.day\n",
        "\n",
        "# Adicionar informações de desligamento\n",
        "base_consolidada['DIA_DESLIGAMENTO'] = base_consolidada['MATRICULA'].map(desligamento_dict).fillna(0)\n",
        "\n",
        "print(f\"Colaboradores com desligamento proporcional: {(base_consolidada['DIA_DESLIGAMENTO'] > 0).sum()}\")\n",
        "print(\"\\n✓ Informações complementares adicionadas\")"
      ]
    },
    {
      "cell_type": "markdown",
      "metadata": {},
      "source": [
        "## 9. Cálculo dos Dias Efetivos de VR\n",
        "\n",
        "Aplicação das regras de negócio para calcular os dias corretos de VR para cada colaborador."
      ]
    },
    {
      "cell_type": "code",
      "execution_count": 9,
      "metadata": {},
      "outputs": [
        {
          "name": "stdout",
          "output_type": "stream",
          "text": [
            "=== CÁLCULO DOS DIAS DE VR ===\n",
            "\n",
            "Distribuição de dias de VR:\n",
            "DIAS_VR\n",
            "0.0       22\n",
            "1.0        7\n",
            "2.0        4\n",
            "6.0        7\n",
            "7.0        4\n",
            "11.0       7\n",
            "12.0       4\n",
            "14.0       1\n",
            "16.0      14\n",
            "17.0       7\n",
            "21.0    1188\n",
            "22.0     527\n",
            "Name: count, dtype: int64\n",
            "\n",
            "Colaboradores com 0 dias VR: 22\n",
            "Colaboradores com VR > 0: 1770\n",
            "\n",
            "✓ Dias de VR calculados\n"
          ]
        }
      ],
      "source": [
        "def calcular_dias_vr(row):\n",
        "    \"\"\"\n",
        "    Calcula os dias efetivos de VR para um colaborador\n",
        "    considerando férias, desligamentos e regras do sindicato\n",
        "    \"\"\"\n",
        "    # Dias úteis base do sindicato\n",
        "    dias_base = row['DIAS_UTEIS_SINDICATO']\n",
        "    \n",
        "    # Reduzir dias de férias\n",
        "    dias_ferias = row['DIAS_FERIAS']\n",
        "    \n",
        "    # Se há desligamento proporcional\n",
        "    dia_desligamento = row['DIA_DESLIGAMENTO']\n",
        "    \n",
        "    if dia_desligamento > 0:\n",
        "        # Para desligamentos, considerar apenas os dias trabalhados\n",
        "        # Assumindo período de 15/04 a 15/05 (próximo mês)\n",
        "        dias_efetivos = dia_desligamento - 15  # Dias trabalhados no mês\n",
        "        dias_efetivos = max(0, dias_efetivos)  # Não pode ser negativo\n",
        "    else:\n",
        "        # Dias normais menos férias\n",
        "        dias_efetivos = dias_base - dias_ferias\n",
        "        dias_efetivos = max(0, dias_efetivos)  # Não pode ser negativo\n",
        "    \n",
        "    return dias_efetivos\n",
        "\n",
        "# Aplicar cálculo\n",
        "print(\"=== CÁLCULO DOS DIAS DE VR ===\\n\")\n",
        "base_consolidada['DIAS_VR'] = base_consolidada.apply(calcular_dias_vr, axis=1)\n",
        "\n",
        "print(\"Distribuição de dias de VR:\")\n",
        "print(base_consolidada['DIAS_VR'].value_counts().sort_index())\n",
        "print(f\"\\nColaboradores com 0 dias VR: {(base_consolidada['DIAS_VR'] == 0).sum()}\")\n",
        "print(f\"Colaboradores com VR > 0: {(base_consolidada['DIAS_VR'] > 0).sum()}\")\n",
        "print(\"\\n✓ Dias de VR calculados\")"
      ]
    },
    {
      "cell_type": "markdown",
      "metadata": {},
      "source": [
        "## 10. Cálculo dos Valores Finais"
      ]
    },
    {
      "cell_type": "code",
      "execution_count": 10,
      "metadata": {},
      "outputs": [
        {
          "name": "stdout",
          "output_type": "stream",
          "text": [
            "=== CÁLCULO DOS VALORES FINAIS ===\n",
            "\n",
            "Total de colaboradores na base final: 1792\n",
            "Colaboradores com VR > 0: 1770\n",
            "Valor total VR: R$ 1,321,110.00\n",
            "Custo empresa: R$ 1,056,888.00\n",
            "Desconto colaboradores: R$ 264,222.00\n",
            "\n",
            "Distribuição por estado:\n",
            "                   MATRICULA  TOTAL_VR  CUSTO_EMPRESA\n",
            "ESTADO                                               \n",
            "Paraná                   139  100765.0        80612.0\n",
            "Rio Grande do Sul       1134  813995.0       651196.0\n",
            "Rio de Janeiro           101   71925.0        57540.0\n",
            "São Paulo                418  334425.0       267540.0\n",
            "\n",
            "✓ Valores finais calculados\n"
          ]
        }
      ],
      "source": [
        "print(\"=== CÁLCULO DOS VALORES FINAIS ===\\n\")\n",
        "\n",
        "# Calcular valores\n",
        "base_consolidada['TOTAL_VR'] = base_consolidada['DIAS_VR'] * base_consolidada['VALOR_DIARIO_VR']\n",
        "base_consolidada['CUSTO_EMPRESA'] = base_consolidada['TOTAL_VR'] * 0.8  # 80%\n",
        "base_consolidada['DESCONTO_COLABORADOR'] = base_consolidada['TOTAL_VR'] * 0.2  # 20%\n",
        "\n",
        "# Estatísticas\n",
        "print(f\"Total de colaboradores na base final: {len(base_consolidada)}\")\n",
        "print(f\"Colaboradores com VR > 0: {(base_consolidada['TOTAL_VR'] > 0).sum()}\")\n",
        "print(f\"Valor total VR: R$ {base_consolidada['TOTAL_VR'].sum():,.2f}\")\n",
        "print(f\"Custo empresa: R$ {base_consolidada['CUSTO_EMPRESA'].sum():,.2f}\")\n",
        "print(f\"Desconto colaboradores: R$ {base_consolidada['DESCONTO_COLABORADOR'].sum():,.2f}\")\n",
        "\n",
        "# Distribuição por estado\n",
        "print(\"\\nDistribuição por estado:\")\n",
        "distribuicao = base_consolidada.groupby('ESTADO').agg({\n",
        "    'MATRICULA': 'count',\n",
        "    'TOTAL_VR': 'sum',\n",
        "    'CUSTO_EMPRESA': 'sum'\n",
        "}).round(2)\n",
        "print(distribuicao)\n",
        "print(\"\\n✓ Valores finais calculados\")"
      ]
    },
    {
      "cell_type": "markdown",
      "metadata": {},
      "source": [
        "## 11. Geração da Planilha Final para Fornecedor"
      ]
    },
    {
      "cell_type": "code",
      "execution_count": 11,
      "metadata": {},
      "outputs": [
        {
          "name": "stdout",
          "output_type": "stream",
          "text": [
            "=== GERAÇÃO DA PLANILHA FINAL ===\n",
            "\n",
            "Planilha final gerada com 1770 colaboradores\n",
            "\n",
            "Primeiras 5 linhas da planilha final:\n",
            "   Matricula Admissão                           Sindicato do Colaborador  \\\n",
            "0      20792           SINDPPD RS - SINDICATO DOS TRAB. EM PROC. DE D...   \n",
            "1      21827           SINDPD SP - SIND.TRAB.EM PROC DADOS E EMPR.EMP...   \n",
            "2      23499           SINDPPD RS - SINDICATO DOS TRAB. EM PROC. DE D...   \n",
            "3      23836           SINDPD RJ - SINDICATO PROFISSIONAIS DE PROC DA...   \n",
            "4      24122           SINDPPD RS - SINDICATO DOS TRAB. EM PROC. DE D...   \n",
            "\n",
            "  Competência  Dias  VALOR DIÁRIO VR  TOTAL  Custo empresa  \\\n",
            "0  2025-05-01  21.0             35.0  735.0          588.0   \n",
            "1  2025-05-01  22.0             37.5  825.0          660.0   \n",
            "2  2025-05-01  21.0             35.0  735.0          588.0   \n",
            "3  2025-05-01  21.0             35.0  735.0          588.0   \n",
            "4  2025-05-01  21.0             35.0  735.0          588.0   \n",
            "\n",
            "   Desconto profissional OBS GERAL  \n",
            "0                  147.0            \n",
            "1                  165.0            \n",
            "2                  147.0            \n",
            "3                  147.0            \n",
            "4                  147.0            \n",
            "\n",
            "✓ Arquivo salvo como: VR_AUTOMATIZADO_MAIO_2025.xlsx\n"
          ]
        }
      ],
      "source": [
        "print(\"=== GERAÇÃO DA PLANILHA FINAL ===\\n\")\n",
        "\n",
        "# Selecionar apenas colaboradores com VR > 0\n",
        "colaboradores_vr = base_consolidada[base_consolidada['TOTAL_VR'] > 0].copy()\n",
        "\n",
        "# Estruturar os dados conforme modelo\n",
        "planilha_final = pd.DataFrame()\n",
        "planilha_final['Matricula'] = colaboradores_vr['MATRICULA']\n",
        "planilha_final['Admissão'] = ''  # Não temos data de admissão na base atual\n",
        "planilha_final['Sindicato do Colaborador'] = colaboradores_vr['Sindicato']\n",
        "planilha_final['Competência'] = '2025-05-01'  # Competência maio 2025\n",
        "planilha_final['Dias'] = colaboradores_vr['DIAS_VR']\n",
        "planilha_final['VALOR DIÁRIO VR'] = colaboradores_vr['VALOR_DIARIO_VR']\n",
        "planilha_final['TOTAL'] = colaboradores_vr['TOTAL_VR']\n",
        "planilha_final['Custo empresa'] = colaboradores_vr['CUSTO_EMPRESA']\n",
        "planilha_final['Desconto profissional'] = colaboradores_vr['DESCONTO_COLABORADOR']\n",
        "planilha_final['OBS GERAL'] = ''\n",
        "\n",
        "# Adicionar observações especiais\n",
        "for idx, row in planilha_final.iterrows():\n",
        "    matricula = row['Matricula']\n",
        "    obs = []\n",
        "    \n",
        "    # Se está em férias\n",
        "    if matricula in ferias_dict:\n",
        "        dias_ferias = ferias_dict[matricula]\n",
        "        obs.append(f\"FÉRIAS: {dias_ferias} dias\")\n",
        "    \n",
        "    # Se é desligamento proporcional\n",
        "    if matricula in desligamento_dict:\n",
        "        dia_desl = desligamento_dict[matricula]\n",
        "        obs.append(f\"DESLIGAMENTO: dia {dia_desl}\")\n",
        "    \n",
        "    planilha_final.at[idx, 'OBS GERAL'] = '; '.join(obs)\n",
        "\n",
        "# Ordenar por matrícula\n",
        "planilha_final = planilha_final.sort_values('Matricula').reset_index(drop=True)\n",
        "\n",
        "print(f\"Planilha final gerada com {len(planilha_final)} colaboradores\")\n",
        "print(\"\\nPrimeiras 5 linhas da planilha final:\")\n",
        "print(planilha_final.head())\n",
        "\n",
        "# Salvar em Excel\n",
        "planilha_final.to_excel('VR_AUTOMATIZADO_MAIO_2025.xlsx', index=False)\n",
        "print(\"\\n✓ Arquivo salvo como: VR_AUTOMATIZADO_MAIO_2025.xlsx\")"
      ]
    },
    {
      "cell_type": "markdown",
      "metadata": {},
      "source": [
        "## 12. Geração do Relatório de Validações"
      ]
    },
    {
      "cell_type": "code",
      "execution_count": 12,
      "metadata": {},
      "outputs": [
        {
          "name": "stdout",
          "output_type": "stream",
          "text": [
            "=== RELATÓRIO DE VALIDAÇÕES ===\n",
            "\n",
            "RELATÓRIO DE VALIDAÇÕES:\n",
            "================================================================================\n",
            "Afastados / Licenças: OK - Excluídos da compra\n",
            "  Quantidade: 20\n",
            "  Detalhes: 20 colaboradores em licença maternidade ou auxílio doença\n",
            "\n",
            "DESLIGADOS GERAL: OK - Regras aplicadas\n",
            "  Quantidade: 51\n",
            "  Detalhes: 39 excluídos (até dia 15 com OK), 12 proporcionais\n",
            "\n",
            "Admitidos mês (abril): OK - Incluídos conforme data\n",
            "  Quantidade: 83\n",
            "  Detalhes: 83 admissões em abril incluídas na base\n",
            "\n",
            "Férias: OK - Dias descontados\n",
            "  Quantidade: 76\n",
            "  Detalhes: 76 colaboradores com desconto de dias por férias\n",
            "\n",
            "ESTAGIARIO: OK - Excluídos da compra\n",
            "  Quantidade: 27\n",
            "  Detalhes: 27 estagiários excluídos (não recebem VR)\n",
            "\n",
            "APRENDIZ: OK - Excluídos da compra\n",
            "  Quantidade: 33\n",
            "  Detalhes: 33 aprendizes excluídos (não recebem VR)\n",
            "\n",
            "SINDICATOS x VALOR: OK - Valores aplicados\n",
            "  Quantidade: 4\n",
            "  Detalhes: RS: R$35,00 | SP: R$37,50 | RJ: R$35,00 | PR: R$35,00\n",
            "\n",
            "EXTERIOR: OK - Excluídos da compra\n",
            "  Quantidade: 4\n",
            "  Detalhes: 4 colaboradores no exterior excluídos\n",
            "\n",
            "ATIVOS: OK - Base consolidada\n",
            "  Quantidade: 1770\n",
            "  Detalhes: 1770 colaboradores ativos elegíveis para VR\n",
            "\n",
            "✓ Relatório de validações salvo como: RELATORIO_VALIDACOES_VR.xlsx\n"
          ]
        }
      ],
      "source": [
        "print(\"=== RELATÓRIO DE VALIDAÇÕES ===\\n\")\n",
        "\n",
        "# Criar relatório detalhado das validações\n",
        "relatorio_validacoes = []\n",
        "\n",
        "# 1. Afastados / Licenças\n",
        "relatorio_validacoes.append({\n",
        "    'Validação': 'Afastados / Licenças',\n",
        "    'Quantidade': len(matriculas_afastados),\n",
        "    'Status': 'OK - Excluídos da compra',\n",
        "    'Detalhes': f'{len(matriculas_afastados)} colaboradores em licença maternidade ou auxílio doença'\n",
        "})\n",
        "\n",
        "# 2. Desligados Geral\n",
        "relatorio_validacoes.append({\n",
        "    'Validação': 'DESLIGADOS GERAL',\n",
        "    'Quantidade': len(desligados_ate_dia_15) + len(desligados_apos_dia_15),\n",
        "    'Status': 'OK - Regras aplicadas',\n",
        "    'Detalhes': f'{len(desligados_ate_dia_15)} excluídos (até dia 15 com OK), {len(desligados_apos_dia_15)} proporcionais'\n",
        "})\n",
        "\n",
        "# 3. Admitidos mês\n",
        "admitidos_abril = len(admissoes)\n",
        "relatorio_validacoes.append({\n",
        "    'Validação': 'Admitidos mês (abril)',\n",
        "    'Quantidade': admitidos_abril,\n",
        "    'Status': 'OK - Incluídos conforme data',\n",
        "    'Detalhes': f'{admitidos_abril} admissões em abril incluídas na base'\n",
        "})\n",
        "\n",
        "# 4. Férias\n",
        "em_ferias = (base_consolidada['DIAS_FERIAS'] > 0).sum()\n",
        "relatorio_validacoes.append({\n",
        "    'Validação': 'Férias',\n",
        "    'Quantidade': em_ferias,\n",
        "    'Status': 'OK - Dias descontados',\n",
        "    'Detalhes': f'{em_ferias} colaboradores com desconto de dias por férias'\n",
        "})\n",
        "\n",
        "# 5. Estagiários\n",
        "relatorio_validacoes.append({\n",
        "    'Validação': 'ESTAGIARIO',\n",
        "    'Quantidade': len(matriculas_estagiarios),\n",
        "    'Status': 'OK - Excluídos da compra',\n",
        "    'Detalhes': f'{len(matriculas_estagiarios)} estagiários excluídos (não recebem VR)'\n",
        "})\n",
        "\n",
        "# 6. Aprendizes\n",
        "relatorio_validacoes.append({\n",
        "    'Validação': 'APRENDIZ',\n",
        "    'Quantidade': len(matriculas_aprendizes),\n",
        "    'Status': 'OK - Excluídos da compra',\n",
        "    'Detalhes': f'{len(matriculas_aprendizes)} aprendizes excluídos (não recebem VR)'\n",
        "})\n",
        "\n",
        "# 7. Sindicatos x Valor\n",
        "relatorio_validacoes.append({\n",
        "    'Validação': 'SINDICATOS x VALOR',\n",
        "    'Quantidade': 4,\n",
        "    'Status': 'OK - Valores aplicados',\n",
        "    'Detalhes': 'RS: R$35,00 | SP: R$37,50 | RJ: R$35,00 | PR: R$35,00'\n",
        "})\n",
        "\n",
        "# 8. Exterior\n",
        "relatorio_validacoes.append({\n",
        "    'Validação': 'EXTERIOR',\n",
        "    'Quantidade': len(matriculas_exterior),\n",
        "    'Status': 'OK - Excluídos da compra',\n",
        "    'Detalhes': f'{len(matriculas_exterior)} colaboradores no exterior excluídos'\n",
        "})\n",
        "\n",
        "# 9. Ativos\n",
        "ativos_final = len(planilha_final)\n",
        "relatorio_validacoes.append({\n",
        "    'Validação': 'ATIVOS',\n",
        "    'Quantidade': ativos_final,\n",
        "    'Status': 'OK - Base consolidada',\n",
        "    'Detalhes': f'{ativos_final} colaboradores ativos elegíveis para VR'\n",
        "})\n",
        "\n",
        "# Criar DataFrame do relatório\n",
        "df_validacoes = pd.DataFrame(relatorio_validacoes)\n",
        "\n",
        "print(\"RELATÓRIO DE VALIDAÇÕES:\")\n",
        "print(\"=\" * 80)\n",
        "for _, row in df_validacoes.iterrows():\n",
        "    print(f\"{row['Validação']}: {row['Status']}\")\n",
        "    print(f\"  Quantidade: {row['Quantidade']}\")\n",
        "    print(f\"  Detalhes: {row['Detalhes']}\")\n",
        "    print()\n",
        "\n",
        "# Salvar relatório de validações\n",
        "df_validacoes.to_excel('RELATORIO_VALIDACOES_VR.xlsx', index=False)\n",
        "print(\"✓ Relatório de validações salvo como: RELATORIO_VALIDACOES_VR.xlsx\")"
      ]
    },
    {
      "cell_type": "markdown",
      "metadata": {},
      "source": [
        "## 13. Resumo Executivo Final"
      ]
    },
    {
      "cell_type": "code",
      "execution_count": 13,
      "metadata": {},
      "outputs": [
        {
          "name": "stdout",
          "output_type": "stream",
          "text": [
            "=== RESUMO EXECUTIVO FINAL ===\n",
            "\n",
            "DISTRIBUIÇÃO POR ESTADO:\n",
            "                          Matricula     TOTAL\n",
            "Sindicato do Colaborador                     \n",
            "Paraná                          132  100765.0\n",
            "Rio Grande do Sul              1124  813995.0\n",
            "Rio de Janeiro                  100   71925.0\n",
            "São Paulo                       414  334425.0\n",
            "\n",
            "RESUMO FINANCEIRO FINAL:\n",
            "========================================\n",
            "Paraná:\n",
            "  Colaboradores: 132.0\n",
            "  Valor total: R$ 100,765.00\n",
            "Rio Grande do Sul:\n",
            "  Colaboradores: 1124.0\n",
            "  Valor total: R$ 813,995.00\n",
            "Rio de Janeiro:\n",
            "  Colaboradores: 100.0\n",
            "  Valor total: R$ 71,925.00\n",
            "São Paulo:\n",
            "  Colaboradores: 414.0\n",
            "  Valor total: R$ 334,425.00\n",
            "\n",
            "TOTAIS GERAIS:\n",
            "Total colaboradores: 1770\n",
            "Total VR: R$ 1,321,110.00\n",
            "Custo empresa (80%): R$ 1,056,888.00\n",
            "Desconto colaborador (20%): R$ 264,222.00\n",
            "\n",
            "============================================================\n",
            "PROCESSAMENTO CONCLUÍDO COM SUCESSO!\n",
            "============================================================\n",
            "ARQUIVOS GERADOS:\n",
            "✓ VR_AUTOMATIZADO_MAIO_2025.xlsx - Planilha final para fornecedor\n",
            "✓ RELATORIO_VALIDACOES_VR.xlsx - Relatório de validações\n",
            "============================================================\n"
          ]
        }
      ],
      "source": [
        "print(\"=== RESUMO EXECUTIVO FINAL ===\\n\")\n",
        "\n",
        "# Calcular distribuição correta por estado\n",
        "estados_resumo = planilha_final.groupby(\n",
        "    planilha_final['Sindicato do Colaborador'].map(mapeamento_sindicato_estado)\n",
        ").agg({\n",
        "    'Matricula': 'count',\n",
        "    'TOTAL': 'sum'\n",
        "}).round(2)\n",
        "\n",
        "print(\"DISTRIBUIÇÃO POR ESTADO:\")\n",
        "print(estados_resumo)\n",
        "print()\n",
        "\n",
        "print(\"RESUMO FINANCEIRO FINAL:\")\n",
        "print(\"=\" * 40)\n",
        "for estado, dados in estados_resumo.iterrows():\n",
        "    print(f\"{estado}:\")\n",
        "    print(f\"  Colaboradores: {dados['Matricula']}\")\n",
        "    print(f\"  Valor total: R$ {dados['TOTAL']:,.2f}\")\n",
        "print()\n",
        "\n",
        "print(\"TOTAIS GERAIS:\")\n",
        "print(f\"Total colaboradores: {estados_resumo['Matricula'].sum()}\")\n",
        "print(f\"Total VR: R$ {estados_resumo['TOTAL'].sum():,.2f}\")\n",
        "print(f\"Custo empresa (80%): R$ {estados_resumo['TOTAL'].sum() * 0.8:,.2f}\")\n",
        "print(f\"Desconto colaborador (20%): R$ {estados_resumo['TOTAL'].sum() * 0.2:,.2f}\")\n",
        "print()\n",
        "\n",
        "print(\"=\" * 60)\n",
        "print(\"PROCESSAMENTO CONCLUÍDO COM SUCESSO!\")\n",
        "print(\"=\" * 60)\n",
        "print(\"ARQUIVOS GERADOS:\")\n",
        "print(\"✓ VR_AUTOMATIZADO_MAIO_2025.xlsx - Planilha final para fornecedor\")\n",
        "print(\"✓ RELATORIO_VALIDACOES_VR.xlsx - Relatório de validações\")\n",
        "print(\"=\" * 60)"
      ]
    },
    {
      "cell_type": "markdown",
      "metadata": {},
      "source": [
        "## 14. Função de Automação Reutilizável\n",
        "\n",
        "Função completa para uso mensal automatizado."
      ]
    },
    {
      "cell_type": "code",
      "execution_count": 14,
      "metadata": {},
      "outputs": [
        {
          "name": "stdout",
          "output_type": "stream",
          "text": [
            "Função de automação criada com sucesso!\n",
            "Para usar mensalmente, execute: resultado = automatizar_vr_mensal()\n"
          ]
        }
      ],
      "source": [
        "def automatizar_vr_mensal():\n",
        "    \"\"\"\n",
        "    Função principal para automatizar o cálculo mensal de VR/VA\n",
        "    \"\"\"\n",
        "    print(\"=== AUTOMAÇÃO DA COMPRA DE VR/VA ===\\n\")\n",
        "    \n",
        "    # STEP 1: Carregar dados\n",
        "    print(\"STEP 1: Carregando dados...\")\n",
        "    \n",
        "    # Carregar todas as bases\n",
        "    ativos = pd.read_excel('ATIVOS.xlsx', sheet_name='ATIVOS')\n",
        "    admissoes = pd.read_excel('ADMISSAO-ABRIL.xlsx')\n",
        "    afastamentos = pd.read_excel('AFASTAMENTOS.xlsx')\n",
        "    aprendizes = pd.read_excel('APRENDIZ.xlsx')\n",
        "    desligados = pd.read_excel('DESLIGADOS.xlsx', sheet_name='DESLIGADOS ')\n",
        "    estagio = pd.read_excel('ESTAGIO.xlsx')\n",
        "    exterior = pd.read_excel('EXTERIOR.xlsx')\n",
        "    ferias = pd.read_excel('FERIAS.xlsx')\n",
        "    dias_uteis = pd.read_excel('Base-dias-uteis.xlsx')\n",
        "    sindicato_valor = pd.read_excel('Base-sindicato-x-valor.xlsx')\n",
        "    \n",
        "    # Limpar dados\n",
        "    dias_uteis_clean = dias_uteis.iloc[1:].copy()\n",
        "    dias_uteis_clean.columns = ['SINDICATO', 'DIAS_UTEIS']\n",
        "    dias_uteis_clean = dias_uteis_clean.dropna()\n",
        "    \n",
        "    sindicato_valor_clean = sindicato_valor.dropna()\n",
        "    desligados.columns = desligados.columns.str.strip()\n",
        "    \n",
        "    # STEP 2: Configurar mapeamentos\n",
        "    mapeamento_sindicato_estado = {\n",
        "        'SINDPPD RS - SINDICATO DOS TRAB. EM PROC. DE DADOS RIO GRANDE DO SUL': 'Rio Grande do Sul',\n",
        "        'SINDPD SP - SIND.TRAB.EM PROC DADOS E EMPR.EMPRESAS PROC DADOS ESTADO DE SP.': 'São Paulo',\n",
        "        'SINDPD RJ - SINDICATO PROFISSIONAIS DE PROC DADOS DO RIO DE JANEIRO': 'Rio de Janeiro',\n",
        "        'SITEPD PR - SIND DOS TRAB EM EMPR PRIVADAS DE PROC DE DADOS DE CURITIBA E REGIAO METROPOLITANA': 'Paraná'\n",
        "    }\n",
        "    \n",
        "    valores_estado = {'Paraná': 35.0, 'Rio de Janeiro': 35.0, 'Rio Grande do Sul': 35.0, 'São Paulo': 37.5}\n",
        "    dias_uteis_dict = dict(zip(dias_uteis_clean['SINDICATO'], dias_uteis_clean['DIAS_UTEIS'].astype(int)))\n",
        "    \n",
        "    # STEP 3: Criar exclusões\n",
        "    matriculas_afastados = set(afastamentos['MATRICULA'].dropna())\n",
        "    matriculas_aprendizes = set(aprendizes['MATRICULA'].dropna())\n",
        "    matriculas_estagiarios = set(estagio['MATRICULA'].dropna())\n",
        "    matriculas_exterior = set(exterior['Cadastro'].dropna())\n",
        "    \n",
        "    # Processar desligados\n",
        "    desligados_ate_dia_15 = []\n",
        "    desligados_apos_dia_15 = []\n",
        "    \n",
        "    for _, row in desligados.iterrows():\n",
        "        data_demissao = pd.to_datetime(row['DATA DEMISSÃO'])\n",
        "        comunicado = row['COMUNICADO DE DESLIGAMENTO']\n",
        "        matricula = row['MATRICULA']\n",
        "        \n",
        "        if data_demissao.day <= 15 and comunicado == 'OK':\n",
        "            desligados_ate_dia_15.append(matricula)\n",
        "        else:\n",
        "            desligados_apos_dia_15.append(matricula)\n",
        "    \n",
        "    exclusoes_completas = matriculas_afastados | matriculas_aprendizes | matriculas_estagiarios | matriculas_exterior | set(desligados_ate_dia_15)\n",
        "    \n",
        "    # STEP 4: Consolidar base\n",
        "    base_consolidada = ativos[~ativos['MATRICULA'].isin(exclusoes_completas)].copy()\n",
        "    \n",
        "    # Adicionar informações\n",
        "    base_consolidada['ESTADO'] = base_consolidada['Sindicato'].map(mapeamento_sindicato_estado)\n",
        "    base_consolidada['VALOR_DIARIO_VR'] = base_consolidada['ESTADO'].map(valores_estado)\n",
        "    base_consolidada['DIAS_UTEIS_SINDICATO'] = base_consolidada['Sindicato'].map(dias_uteis_dict)\n",
        "    \n",
        "    # Férias e desligamentos\n",
        "    ferias_dict = dict(zip(ferias['MATRICULA'], ferias['DIAS DE FÉRIAS']))\n",
        "    base_consolidada['DIAS_FERIAS'] = base_consolidada['MATRICULA'].map(ferias_dict).fillna(0)\n",
        "    \n",
        "    desligamento_dict = {}\n",
        "    for _, row in desligados.iterrows():\n",
        "        if row['MATRICULA'] in desligados_apos_dia_15:\n",
        "            data_demissao = pd.to_datetime(row['DATA DEMISSÃO'])\n",
        "            desligamento_dict[row['MATRICULA']] = data_demissao.day\n",
        "    \n",
        "    base_consolidada['DIA_DESLIGAMENTO'] = base_consolidada['MATRICULA'].map(desligamento_dict).fillna(0)\n",
        "    \n",
        "    # STEP 5: Calcular dias VR\n",
        "    def calcular_dias_vr(row):\n",
        "        dias_base = row['DIAS_UTEIS_SINDICATO']\n",
        "        dias_ferias = row['DIAS_FERIAS']\n",
        "        dia_desligamento = row['DIA_DESLIGAMENTO']\n",
        "        \n",
        "        if dia_desligamento > 0:\n",
        "            dias_efetivos = dia_desligamento - 15\n",
        "            dias_efetivos = max(0, dias_efetivos)\n",
        "        else:\n",
        "            dias_efetivos = dias_base - dias_ferias\n",
        "            dias_efetivos = max(0, dias_efetivos)\n",
        "        \n",
        "        return dias_efetivos\n",
        "    \n",
        "    base_consolidada['DIAS_VR'] = base_consolidada.apply(calcular_dias_vr, axis=1)\n",
        "    \n",
        "    # STEP 6: Calcular valores\n",
        "    base_consolidada['TOTAL_VR'] = base_consolidada['DIAS_VR'] * base_consolidada['VALOR_DIARIO_VR']\n",
        "    base_consolidada['CUSTO_EMPRESA'] = base_consolidada['TOTAL_VR'] * 0.8\n",
        "    base_consolidada['DESCONTO_COLABORADOR'] = base_consolidada['TOTAL_VR'] * 0.2\n",
        "    \n",
        "    # STEP 7: Gerar planilha final\n",
        "    colaboradores_vr = base_consolidada[base_consolidada['TOTAL_VR'] > 0].copy()\n",
        "    \n",
        "    planilha_final = pd.DataFrame()\n",
        "    planilha_final['Matricula'] = colaboradores_vr['MATRICULA']\n",
        "    planilha_final['Admissão'] = ''\n",
        "    planilha_final['Sindicato do Colaborador'] = colaboradores_vr['Sindicato']\n",
        "    planilha_final['Competência'] = '2025-05-01'\n",
        "    planilha_final['Dias'] = colaboradores_vr['DIAS_VR']\n",
        "    planilha_final['VALOR DIÁRIO VR'] = colaboradores_vr['VALOR_DIARIO_VR']\n",
        "    planilha_final['TOTAL'] = colaboradores_vr['TOTAL_VR']\n",
        "    planilha_final['Custo empresa'] = colaboradores_vr['CUSTO_EMPRESA']\n",
        "    planilha_final['Desconto profissional'] = colaboradores_vr['DESCONTO_COLABORADOR']\n",
        "    planilha_final['OBS GERAL'] = ''\n",
        "    \n",
        "    # Adicionar observações\n",
        "    for idx, row in planilha_final.iterrows():\n",
        "        matricula = row['Matricula']\n",
        "        obs = []\n",
        "        \n",
        "        if matricula in ferias_dict:\n",
        "            dias_ferias = ferias_dict[matricula]\n",
        "            obs.append(f\"FÉRIAS: {dias_ferias} dias\")\n",
        "        \n",
        "        if matricula in desligamento_dict:\n",
        "            dia_desl = desligamento_dict[matricula]\n",
        "            obs.append(f\"DESLIGAMENTO: dia {dia_desl}\")\n",
        "        \n",
        "        planilha_final.at[idx, 'OBS GERAL'] = '; '.join(obs)\n",
        "    \n",
        "    planilha_final = planilha_final.sort_values('Matricula').reset_index(drop=True)\n",
        "    \n",
        "    # Salvar arquivos\n",
        "    data_atual = datetime.now().strftime('%Y%m%d')\n",
        "    nome_arquivo = f'VR_AUTOMATIZADO_{data_atual}.xlsx'\n",
        "    planilha_final.to_excel(nome_arquivo, index=False)\n",
        "    \n",
        "    print(f\"✓ Processamento concluído!\")\n",
        "    print(f\"✓ Arquivo gerado: {nome_arquivo}\")\n",
        "    print(f\"✓ Total de colaboradores: {len(planilha_final)}\")\n",
        "    print(f\"✓ Valor total VR: R$ {planilha_final['TOTAL'].sum():,.2f}\")\n",
        "    \n",
        "    return planilha_final\n",
        "\n",
        "# Para executar a automação, descomente a linha abaixo:\n",
        "# resultado = automatizar_vr_mensal()\n",
        "\n",
        "print(\"Função de automação criada com sucesso!\")\n",
        "print(\"Para usar mensalmente, execute: resultado = automatizar_vr_mensal()\")"
      ]
    },
    {
      "cell_type": "code",
      "execution_count": 15,
      "metadata": {},
      "outputs": [
        {
          "data": {
            "application/vnd.plotly.v1+json": {
              "config": {
                "plotlyServerURL": "https://plot.ly"
              },
              "data": [
                {
                  "cliponaxis": false,
                  "marker": {
                    "color": "#1FB8CD"
                  },
                  "name": "Colaboradores",
                  "text": [
                    "1124",
                    "414",
                    "132",
                    "100"
                  ],
                  "textposition": "outside",
                  "type": "bar",
                  "x": [
                    "R. Grande Sul",
                    "São Paulo",
                    "Paraná",
                    "Rio de Janeiro"
                  ],
                  "y": [
                    1124,
                    414,
                    132,
                    100
                  ]
                },
                {
                  "cliponaxis": false,
                  "marker": {
                    "color": "#DB4545"
                  },
                  "name": "Valor (k R$)",
                  "text": [
                    "814k",
                    "334k",
                    "101k",
                    "72k"
                  ],
                  "textposition": "outside",
                  "type": "bar",
                  "x": [
                    "R. Grande Sul",
                    "São Paulo",
                    "Paraná",
                    "Rio de Janeiro"
                  ],
                  "y": [
                    813.995,
                    334.425,
                    100.765,
                    71.925
                  ]
                }
              ],
              "layout": {
                "barmode": "group",
                "legend": {
                  "orientation": "h",
                  "x": 0.5,
                  "xanchor": "center",
                  "y": 1.05,
                  "yanchor": "bottom"
                },
                "template": {
                  "data": {
                    "bar": [
                      {
                        "error_x": {
                          "color": "#2a3f5f"
                        },
                        "error_y": {
                          "color": "#2a3f5f"
                        },
                        "marker": {
                          "line": {
                            "color": "#E5ECF6",
                            "width": 0.5
                          },
                          "pattern": {
                            "fillmode": "overlay",
                            "size": 10,
                            "solidity": 0.2
                          }
                        },
                        "type": "bar"
                      }
                    ],
                    "barpolar": [
                      {
                        "marker": {
                          "line": {
                            "color": "#E5ECF6",
                            "width": 0.5
                          },
                          "pattern": {
                            "fillmode": "overlay",
                            "size": 10,
                            "solidity": 0.2
                          }
                        },
                        "type": "barpolar"
                      }
                    ],
                    "carpet": [
                      {
                        "aaxis": {
                          "endlinecolor": "#2a3f5f",
                          "gridcolor": "white",
                          "linecolor": "white",
                          "minorgridcolor": "white",
                          "startlinecolor": "#2a3f5f"
                        },
                        "baxis": {
                          "endlinecolor": "#2a3f5f",
                          "gridcolor": "white",
                          "linecolor": "white",
                          "minorgridcolor": "white",
                          "startlinecolor": "#2a3f5f"
                        },
                        "type": "carpet"
                      }
                    ],
                    "choropleth": [
                      {
                        "colorbar": {
                          "outlinewidth": 0,
                          "ticks": ""
                        },
                        "type": "choropleth"
                      }
                    ],
                    "contour": [
                      {
                        "colorbar": {
                          "outlinewidth": 0,
                          "ticks": ""
                        },
                        "colorscale": [
                          [
                            0,
                            "#0d0887"
                          ],
                          [
                            0.1111111111111111,
                            "#46039f"
                          ],
                          [
                            0.2222222222222222,
                            "#7201a8"
                          ],
                          [
                            0.3333333333333333,
                            "#9c179e"
                          ],
                          [
                            0.4444444444444444,
                            "#bd3786"
                          ],
                          [
                            0.5555555555555556,
                            "#d8576b"
                          ],
                          [
                            0.6666666666666666,
                            "#ed7953"
                          ],
                          [
                            0.7777777777777778,
                            "#fb9f3a"
                          ],
                          [
                            0.8888888888888888,
                            "#fdca26"
                          ],
                          [
                            1,
                            "#f0f921"
                          ]
                        ],
                        "type": "contour"
                      }
                    ],
                    "contourcarpet": [
                      {
                        "colorbar": {
                          "outlinewidth": 0,
                          "ticks": ""
                        },
                        "type": "contourcarpet"
                      }
                    ],
                    "heatmap": [
                      {
                        "colorbar": {
                          "outlinewidth": 0,
                          "ticks": ""
                        },
                        "colorscale": [
                          [
                            0,
                            "#0d0887"
                          ],
                          [
                            0.1111111111111111,
                            "#46039f"
                          ],
                          [
                            0.2222222222222222,
                            "#7201a8"
                          ],
                          [
                            0.3333333333333333,
                            "#9c179e"
                          ],
                          [
                            0.4444444444444444,
                            "#bd3786"
                          ],
                          [
                            0.5555555555555556,
                            "#d8576b"
                          ],
                          [
                            0.6666666666666666,
                            "#ed7953"
                          ],
                          [
                            0.7777777777777778,
                            "#fb9f3a"
                          ],
                          [
                            0.8888888888888888,
                            "#fdca26"
                          ],
                          [
                            1,
                            "#f0f921"
                          ]
                        ],
                        "type": "heatmap"
                      }
                    ],
                    "histogram": [
                      {
                        "marker": {
                          "pattern": {
                            "fillmode": "overlay",
                            "size": 10,
                            "solidity": 0.2
                          }
                        },
                        "type": "histogram"
                      }
                    ],
                    "histogram2d": [
                      {
                        "colorbar": {
                          "outlinewidth": 0,
                          "ticks": ""
                        },
                        "colorscale": [
                          [
                            0,
                            "#0d0887"
                          ],
                          [
                            0.1111111111111111,
                            "#46039f"
                          ],
                          [
                            0.2222222222222222,
                            "#7201a8"
                          ],
                          [
                            0.3333333333333333,
                            "#9c179e"
                          ],
                          [
                            0.4444444444444444,
                            "#bd3786"
                          ],
                          [
                            0.5555555555555556,
                            "#d8576b"
                          ],
                          [
                            0.6666666666666666,
                            "#ed7953"
                          ],
                          [
                            0.7777777777777778,
                            "#fb9f3a"
                          ],
                          [
                            0.8888888888888888,
                            "#fdca26"
                          ],
                          [
                            1,
                            "#f0f921"
                          ]
                        ],
                        "type": "histogram2d"
                      }
                    ],
                    "histogram2dcontour": [
                      {
                        "colorbar": {
                          "outlinewidth": 0,
                          "ticks": ""
                        },
                        "colorscale": [
                          [
                            0,
                            "#0d0887"
                          ],
                          [
                            0.1111111111111111,
                            "#46039f"
                          ],
                          [
                            0.2222222222222222,
                            "#7201a8"
                          ],
                          [
                            0.3333333333333333,
                            "#9c179e"
                          ],
                          [
                            0.4444444444444444,
                            "#bd3786"
                          ],
                          [
                            0.5555555555555556,
                            "#d8576b"
                          ],
                          [
                            0.6666666666666666,
                            "#ed7953"
                          ],
                          [
                            0.7777777777777778,
                            "#fb9f3a"
                          ],
                          [
                            0.8888888888888888,
                            "#fdca26"
                          ],
                          [
                            1,
                            "#f0f921"
                          ]
                        ],
                        "type": "histogram2dcontour"
                      }
                    ],
                    "mesh3d": [
                      {
                        "colorbar": {
                          "outlinewidth": 0,
                          "ticks": ""
                        },
                        "type": "mesh3d"
                      }
                    ],
                    "parcoords": [
                      {
                        "line": {
                          "colorbar": {
                            "outlinewidth": 0,
                            "ticks": ""
                          }
                        },
                        "type": "parcoords"
                      }
                    ],
                    "pie": [
                      {
                        "automargin": true,
                        "type": "pie"
                      }
                    ],
                    "scatter": [
                      {
                        "fillpattern": {
                          "fillmode": "overlay",
                          "size": 10,
                          "solidity": 0.2
                        },
                        "type": "scatter"
                      }
                    ],
                    "scatter3d": [
                      {
                        "line": {
                          "colorbar": {
                            "outlinewidth": 0,
                            "ticks": ""
                          }
                        },
                        "marker": {
                          "colorbar": {
                            "outlinewidth": 0,
                            "ticks": ""
                          }
                        },
                        "type": "scatter3d"
                      }
                    ],
                    "scattercarpet": [
                      {
                        "marker": {
                          "colorbar": {
                            "outlinewidth": 0,
                            "ticks": ""
                          }
                        },
                        "type": "scattercarpet"
                      }
                    ],
                    "scattergeo": [
                      {
                        "marker": {
                          "colorbar": {
                            "outlinewidth": 0,
                            "ticks": ""
                          }
                        },
                        "type": "scattergeo"
                      }
                    ],
                    "scattergl": [
                      {
                        "marker": {
                          "colorbar": {
                            "outlinewidth": 0,
                            "ticks": ""
                          }
                        },
                        "type": "scattergl"
                      }
                    ],
                    "scattermap": [
                      {
                        "marker": {
                          "colorbar": {
                            "outlinewidth": 0,
                            "ticks": ""
                          }
                        },
                        "type": "scattermap"
                      }
                    ],
                    "scattermapbox": [
                      {
                        "marker": {
                          "colorbar": {
                            "outlinewidth": 0,
                            "ticks": ""
                          }
                        },
                        "type": "scattermapbox"
                      }
                    ],
                    "scatterpolar": [
                      {
                        "marker": {
                          "colorbar": {
                            "outlinewidth": 0,
                            "ticks": ""
                          }
                        },
                        "type": "scatterpolar"
                      }
                    ],
                    "scatterpolargl": [
                      {
                        "marker": {
                          "colorbar": {
                            "outlinewidth": 0,
                            "ticks": ""
                          }
                        },
                        "type": "scatterpolargl"
                      }
                    ],
                    "scatterternary": [
                      {
                        "marker": {
                          "colorbar": {
                            "outlinewidth": 0,
                            "ticks": ""
                          }
                        },
                        "type": "scatterternary"
                      }
                    ],
                    "surface": [
                      {
                        "colorbar": {
                          "outlinewidth": 0,
                          "ticks": ""
                        },
                        "colorscale": [
                          [
                            0,
                            "#0d0887"
                          ],
                          [
                            0.1111111111111111,
                            "#46039f"
                          ],
                          [
                            0.2222222222222222,
                            "#7201a8"
                          ],
                          [
                            0.3333333333333333,
                            "#9c179e"
                          ],
                          [
                            0.4444444444444444,
                            "#bd3786"
                          ],
                          [
                            0.5555555555555556,
                            "#d8576b"
                          ],
                          [
                            0.6666666666666666,
                            "#ed7953"
                          ],
                          [
                            0.7777777777777778,
                            "#fb9f3a"
                          ],
                          [
                            0.8888888888888888,
                            "#fdca26"
                          ],
                          [
                            1,
                            "#f0f921"
                          ]
                        ],
                        "type": "surface"
                      }
                    ],
                    "table": [
                      {
                        "cells": {
                          "fill": {
                            "color": "#EBF0F8"
                          },
                          "line": {
                            "color": "white"
                          }
                        },
                        "header": {
                          "fill": {
                            "color": "#C8D4E3"
                          },
                          "line": {
                            "color": "white"
                          }
                        },
                        "type": "table"
                      }
                    ]
                  },
                  "layout": {
                    "annotationdefaults": {
                      "arrowcolor": "#2a3f5f",
                      "arrowhead": 0,
                      "arrowwidth": 1
                    },
                    "autotypenumbers": "strict",
                    "coloraxis": {
                      "colorbar": {
                        "outlinewidth": 0,
                        "ticks": ""
                      }
                    },
                    "colorscale": {
                      "diverging": [
                        [
                          0,
                          "#8e0152"
                        ],
                        [
                          0.1,
                          "#c51b7d"
                        ],
                        [
                          0.2,
                          "#de77ae"
                        ],
                        [
                          0.3,
                          "#f1b6da"
                        ],
                        [
                          0.4,
                          "#fde0ef"
                        ],
                        [
                          0.5,
                          "#f7f7f7"
                        ],
                        [
                          0.6,
                          "#e6f5d0"
                        ],
                        [
                          0.7,
                          "#b8e186"
                        ],
                        [
                          0.8,
                          "#7fbc41"
                        ],
                        [
                          0.9,
                          "#4d9221"
                        ],
                        [
                          1,
                          "#276419"
                        ]
                      ],
                      "sequential": [
                        [
                          0,
                          "#0d0887"
                        ],
                        [
                          0.1111111111111111,
                          "#46039f"
                        ],
                        [
                          0.2222222222222222,
                          "#7201a8"
                        ],
                        [
                          0.3333333333333333,
                          "#9c179e"
                        ],
                        [
                          0.4444444444444444,
                          "#bd3786"
                        ],
                        [
                          0.5555555555555556,
                          "#d8576b"
                        ],
                        [
                          0.6666666666666666,
                          "#ed7953"
                        ],
                        [
                          0.7777777777777778,
                          "#fb9f3a"
                        ],
                        [
                          0.8888888888888888,
                          "#fdca26"
                        ],
                        [
                          1,
                          "#f0f921"
                        ]
                      ],
                      "sequentialminus": [
                        [
                          0,
                          "#0d0887"
                        ],
                        [
                          0.1111111111111111,
                          "#46039f"
                        ],
                        [
                          0.2222222222222222,
                          "#7201a8"
                        ],
                        [
                          0.3333333333333333,
                          "#9c179e"
                        ],
                        [
                          0.4444444444444444,
                          "#bd3786"
                        ],
                        [
                          0.5555555555555556,
                          "#d8576b"
                        ],
                        [
                          0.6666666666666666,
                          "#ed7953"
                        ],
                        [
                          0.7777777777777778,
                          "#fb9f3a"
                        ],
                        [
                          0.8888888888888888,
                          "#fdca26"
                        ],
                        [
                          1,
                          "#f0f921"
                        ]
                      ]
                    },
                    "colorway": [
                      "#636efa",
                      "#EF553B",
                      "#00cc96",
                      "#ab63fa",
                      "#FFA15A",
                      "#19d3f3",
                      "#FF6692",
                      "#B6E880",
                      "#FF97FF",
                      "#FECB52"
                    ],
                    "font": {
                      "color": "#2a3f5f"
                    },
                    "geo": {
                      "bgcolor": "white",
                      "lakecolor": "white",
                      "landcolor": "#E5ECF6",
                      "showlakes": true,
                      "showland": true,
                      "subunitcolor": "white"
                    },
                    "hoverlabel": {
                      "align": "left"
                    },
                    "hovermode": "closest",
                    "mapbox": {
                      "style": "light"
                    },
                    "paper_bgcolor": "white",
                    "plot_bgcolor": "#E5ECF6",
                    "polar": {
                      "angularaxis": {
                        "gridcolor": "white",
                        "linecolor": "white",
                        "ticks": ""
                      },
                      "bgcolor": "#E5ECF6",
                      "radialaxis": {
                        "gridcolor": "white",
                        "linecolor": "white",
                        "ticks": ""
                      }
                    },
                    "scene": {
                      "xaxis": {
                        "backgroundcolor": "#E5ECF6",
                        "gridcolor": "white",
                        "gridwidth": 2,
                        "linecolor": "white",
                        "showbackground": true,
                        "ticks": "",
                        "zerolinecolor": "white"
                      },
                      "yaxis": {
                        "backgroundcolor": "#E5ECF6",
                        "gridcolor": "white",
                        "gridwidth": 2,
                        "linecolor": "white",
                        "showbackground": true,
                        "ticks": "",
                        "zerolinecolor": "white"
                      },
                      "zaxis": {
                        "backgroundcolor": "#E5ECF6",
                        "gridcolor": "white",
                        "gridwidth": 2,
                        "linecolor": "white",
                        "showbackground": true,
                        "ticks": "",
                        "zerolinecolor": "white"
                      }
                    },
                    "shapedefaults": {
                      "line": {
                        "color": "#2a3f5f"
                      }
                    },
                    "ternary": {
                      "aaxis": {
                        "gridcolor": "white",
                        "linecolor": "white",
                        "ticks": ""
                      },
                      "baxis": {
                        "gridcolor": "white",
                        "linecolor": "white",
                        "ticks": ""
                      },
                      "bgcolor": "#E5ECF6",
                      "caxis": {
                        "gridcolor": "white",
                        "linecolor": "white",
                        "ticks": ""
                      }
                    },
                    "title": {
                      "x": 0.05
                    },
                    "xaxis": {
                      "automargin": true,
                      "gridcolor": "white",
                      "linecolor": "white",
                      "ticks": "",
                      "title": {
                        "standoff": 15
                      },
                      "zerolinecolor": "white",
                      "zerolinewidth": 2
                    },
                    "yaxis": {
                      "automargin": true,
                      "gridcolor": "white",
                      "linecolor": "white",
                      "ticks": "",
                      "title": {
                        "standoff": 15
                      },
                      "zerolinecolor": "white",
                      "zerolinewidth": 2
                    }
                  }
                },
                "title": {
                  "text": "Colaboradores e VR por Estado"
                },
                "xaxis": {
                  "title": {
                    "text": "Estado"
                  }
                },
                "yaxis": {
                  "title": {
                    "text": "Quantidade"
                  }
                }
              }
            }
          },
          "metadata": {},
          "output_type": "display_data"
        }
      ],
      "source": [
        "import plotly.graph_objects as go\n",
        "\n",
        "# Data with abbreviated state names to meet 15-character limit\n",
        "estados = [\"R. Grande Sul\", \"São Paulo\", \"Paraná\", \"Rio de Janeiro\"]\n",
        "colaboradores = [1124, 414, 132, 100]\n",
        "valores = [813995, 334425, 100765, 71925]\n",
        "\n",
        "# Convert valores to thousands for better scale comparison\n",
        "valores_k = [v/1000 for v in valores]\n",
        "\n",
        "fig = go.Figure()\n",
        "\n",
        "# Add colaboradores bars\n",
        "fig.add_trace(go.Bar(\n",
        "    x=estados,\n",
        "    y=colaboradores,\n",
        "    name='Colaboradores',\n",
        "    marker_color='#1FB8CD',\n",
        "    text=colaboradores,\n",
        "    textposition='outside',\n",
        "    cliponaxis=False\n",
        "))\n",
        "\n",
        "# Add valores bars  \n",
        "fig.add_trace(go.Bar(\n",
        "    x=estados,\n",
        "    y=valores_k,\n",
        "    name='Valor (k R$)',\n",
        "    marker_color='#DB4545',\n",
        "    text=[f'{v:.0f}k' for v in valores_k],\n",
        "    textposition='outside',\n",
        "    cliponaxis=False\n",
        "))\n",
        "\n",
        "fig.update_layout(\n",
        "    title='Colaboradores e VR por Estado',\n",
        "    barmode='group',\n",
        "    legend=dict(orientation='h', yanchor='bottom', y=1.05, xanchor='center', x=0.5)\n",
        ")\n",
        "\n",
        "fig.update_yaxes(title='Quantidade')\n",
        "fig.update_xaxes(title='Estado')\n",
        "\n",
        "fig.show()\n",
        "fig.write_image('colaboradores_vr_estados.png')"
      ]
    },
    {
      "cell_type": "code",
      "execution_count": 16,
      "metadata": {},
      "outputs": [
        {
          "data": {
            "application/vnd.plotly.v1+json": {
              "config": {
                "plotlyServerURL": "https://plot.ly"
              },
              "data": [
                {
                  "hoverinfo": "text",
                  "hovertext": [
                    "Empresa<br>80%<br>R$ 1.057m",
                    "Colaborador<br>20%<br>R$ 0.264m"
                  ],
                  "labels": [
                    "Empresa",
                    "Colaborador"
                  ],
                  "marker": {
                    "colors": [
                      "#1FB8CD",
                      "#DB4545"
                    ]
                  },
                  "text": [
                    "80%<br>R$ 1.057m",
                    "20%<br>R$ 0.264m"
                  ],
                  "textinfo": "label+text",
                  "textposition": "outside",
                  "type": "pie",
                  "values": [
                    1056888,
                    264222
                  ]
                }
              ],
              "layout": {
                "template": {
                  "data": {
                    "bar": [
                      {
                        "error_x": {
                          "color": "#2a3f5f"
                        },
                        "error_y": {
                          "color": "#2a3f5f"
                        },
                        "marker": {
                          "line": {
                            "color": "#E5ECF6",
                            "width": 0.5
                          },
                          "pattern": {
                            "fillmode": "overlay",
                            "size": 10,
                            "solidity": 0.2
                          }
                        },
                        "type": "bar"
                      }
                    ],
                    "barpolar": [
                      {
                        "marker": {
                          "line": {
                            "color": "#E5ECF6",
                            "width": 0.5
                          },
                          "pattern": {
                            "fillmode": "overlay",
                            "size": 10,
                            "solidity": 0.2
                          }
                        },
                        "type": "barpolar"
                      }
                    ],
                    "carpet": [
                      {
                        "aaxis": {
                          "endlinecolor": "#2a3f5f",
                          "gridcolor": "white",
                          "linecolor": "white",
                          "minorgridcolor": "white",
                          "startlinecolor": "#2a3f5f"
                        },
                        "baxis": {
                          "endlinecolor": "#2a3f5f",
                          "gridcolor": "white",
                          "linecolor": "white",
                          "minorgridcolor": "white",
                          "startlinecolor": "#2a3f5f"
                        },
                        "type": "carpet"
                      }
                    ],
                    "choropleth": [
                      {
                        "colorbar": {
                          "outlinewidth": 0,
                          "ticks": ""
                        },
                        "type": "choropleth"
                      }
                    ],
                    "contour": [
                      {
                        "colorbar": {
                          "outlinewidth": 0,
                          "ticks": ""
                        },
                        "colorscale": [
                          [
                            0,
                            "#0d0887"
                          ],
                          [
                            0.1111111111111111,
                            "#46039f"
                          ],
                          [
                            0.2222222222222222,
                            "#7201a8"
                          ],
                          [
                            0.3333333333333333,
                            "#9c179e"
                          ],
                          [
                            0.4444444444444444,
                            "#bd3786"
                          ],
                          [
                            0.5555555555555556,
                            "#d8576b"
                          ],
                          [
                            0.6666666666666666,
                            "#ed7953"
                          ],
                          [
                            0.7777777777777778,
                            "#fb9f3a"
                          ],
                          [
                            0.8888888888888888,
                            "#fdca26"
                          ],
                          [
                            1,
                            "#f0f921"
                          ]
                        ],
                        "type": "contour"
                      }
                    ],
                    "contourcarpet": [
                      {
                        "colorbar": {
                          "outlinewidth": 0,
                          "ticks": ""
                        },
                        "type": "contourcarpet"
                      }
                    ],
                    "heatmap": [
                      {
                        "colorbar": {
                          "outlinewidth": 0,
                          "ticks": ""
                        },
                        "colorscale": [
                          [
                            0,
                            "#0d0887"
                          ],
                          [
                            0.1111111111111111,
                            "#46039f"
                          ],
                          [
                            0.2222222222222222,
                            "#7201a8"
                          ],
                          [
                            0.3333333333333333,
                            "#9c179e"
                          ],
                          [
                            0.4444444444444444,
                            "#bd3786"
                          ],
                          [
                            0.5555555555555556,
                            "#d8576b"
                          ],
                          [
                            0.6666666666666666,
                            "#ed7953"
                          ],
                          [
                            0.7777777777777778,
                            "#fb9f3a"
                          ],
                          [
                            0.8888888888888888,
                            "#fdca26"
                          ],
                          [
                            1,
                            "#f0f921"
                          ]
                        ],
                        "type": "heatmap"
                      }
                    ],
                    "histogram": [
                      {
                        "marker": {
                          "pattern": {
                            "fillmode": "overlay",
                            "size": 10,
                            "solidity": 0.2
                          }
                        },
                        "type": "histogram"
                      }
                    ],
                    "histogram2d": [
                      {
                        "colorbar": {
                          "outlinewidth": 0,
                          "ticks": ""
                        },
                        "colorscale": [
                          [
                            0,
                            "#0d0887"
                          ],
                          [
                            0.1111111111111111,
                            "#46039f"
                          ],
                          [
                            0.2222222222222222,
                            "#7201a8"
                          ],
                          [
                            0.3333333333333333,
                            "#9c179e"
                          ],
                          [
                            0.4444444444444444,
                            "#bd3786"
                          ],
                          [
                            0.5555555555555556,
                            "#d8576b"
                          ],
                          [
                            0.6666666666666666,
                            "#ed7953"
                          ],
                          [
                            0.7777777777777778,
                            "#fb9f3a"
                          ],
                          [
                            0.8888888888888888,
                            "#fdca26"
                          ],
                          [
                            1,
                            "#f0f921"
                          ]
                        ],
                        "type": "histogram2d"
                      }
                    ],
                    "histogram2dcontour": [
                      {
                        "colorbar": {
                          "outlinewidth": 0,
                          "ticks": ""
                        },
                        "colorscale": [
                          [
                            0,
                            "#0d0887"
                          ],
                          [
                            0.1111111111111111,
                            "#46039f"
                          ],
                          [
                            0.2222222222222222,
                            "#7201a8"
                          ],
                          [
                            0.3333333333333333,
                            "#9c179e"
                          ],
                          [
                            0.4444444444444444,
                            "#bd3786"
                          ],
                          [
                            0.5555555555555556,
                            "#d8576b"
                          ],
                          [
                            0.6666666666666666,
                            "#ed7953"
                          ],
                          [
                            0.7777777777777778,
                            "#fb9f3a"
                          ],
                          [
                            0.8888888888888888,
                            "#fdca26"
                          ],
                          [
                            1,
                            "#f0f921"
                          ]
                        ],
                        "type": "histogram2dcontour"
                      }
                    ],
                    "mesh3d": [
                      {
                        "colorbar": {
                          "outlinewidth": 0,
                          "ticks": ""
                        },
                        "type": "mesh3d"
                      }
                    ],
                    "parcoords": [
                      {
                        "line": {
                          "colorbar": {
                            "outlinewidth": 0,
                            "ticks": ""
                          }
                        },
                        "type": "parcoords"
                      }
                    ],
                    "pie": [
                      {
                        "automargin": true,
                        "type": "pie"
                      }
                    ],
                    "scatter": [
                      {
                        "fillpattern": {
                          "fillmode": "overlay",
                          "size": 10,
                          "solidity": 0.2
                        },
                        "type": "scatter"
                      }
                    ],
                    "scatter3d": [
                      {
                        "line": {
                          "colorbar": {
                            "outlinewidth": 0,
                            "ticks": ""
                          }
                        },
                        "marker": {
                          "colorbar": {
                            "outlinewidth": 0,
                            "ticks": ""
                          }
                        },
                        "type": "scatter3d"
                      }
                    ],
                    "scattercarpet": [
                      {
                        "marker": {
                          "colorbar": {
                            "outlinewidth": 0,
                            "ticks": ""
                          }
                        },
                        "type": "scattercarpet"
                      }
                    ],
                    "scattergeo": [
                      {
                        "marker": {
                          "colorbar": {
                            "outlinewidth": 0,
                            "ticks": ""
                          }
                        },
                        "type": "scattergeo"
                      }
                    ],
                    "scattergl": [
                      {
                        "marker": {
                          "colorbar": {
                            "outlinewidth": 0,
                            "ticks": ""
                          }
                        },
                        "type": "scattergl"
                      }
                    ],
                    "scattermap": [
                      {
                        "marker": {
                          "colorbar": {
                            "outlinewidth": 0,
                            "ticks": ""
                          }
                        },
                        "type": "scattermap"
                      }
                    ],
                    "scattermapbox": [
                      {
                        "marker": {
                          "colorbar": {
                            "outlinewidth": 0,
                            "ticks": ""
                          }
                        },
                        "type": "scattermapbox"
                      }
                    ],
                    "scatterpolar": [
                      {
                        "marker": {
                          "colorbar": {
                            "outlinewidth": 0,
                            "ticks": ""
                          }
                        },
                        "type": "scatterpolar"
                      }
                    ],
                    "scatterpolargl": [
                      {
                        "marker": {
                          "colorbar": {
                            "outlinewidth": 0,
                            "ticks": ""
                          }
                        },
                        "type": "scatterpolargl"
                      }
                    ],
                    "scatterternary": [
                      {
                        "marker": {
                          "colorbar": {
                            "outlinewidth": 0,
                            "ticks": ""
                          }
                        },
                        "type": "scatterternary"
                      }
                    ],
                    "surface": [
                      {
                        "colorbar": {
                          "outlinewidth": 0,
                          "ticks": ""
                        },
                        "colorscale": [
                          [
                            0,
                            "#0d0887"
                          ],
                          [
                            0.1111111111111111,
                            "#46039f"
                          ],
                          [
                            0.2222222222222222,
                            "#7201a8"
                          ],
                          [
                            0.3333333333333333,
                            "#9c179e"
                          ],
                          [
                            0.4444444444444444,
                            "#bd3786"
                          ],
                          [
                            0.5555555555555556,
                            "#d8576b"
                          ],
                          [
                            0.6666666666666666,
                            "#ed7953"
                          ],
                          [
                            0.7777777777777778,
                            "#fb9f3a"
                          ],
                          [
                            0.8888888888888888,
                            "#fdca26"
                          ],
                          [
                            1,
                            "#f0f921"
                          ]
                        ],
                        "type": "surface"
                      }
                    ],
                    "table": [
                      {
                        "cells": {
                          "fill": {
                            "color": "#EBF0F8"
                          },
                          "line": {
                            "color": "white"
                          }
                        },
                        "header": {
                          "fill": {
                            "color": "#C8D4E3"
                          },
                          "line": {
                            "color": "white"
                          }
                        },
                        "type": "table"
                      }
                    ]
                  },
                  "layout": {
                    "annotationdefaults": {
                      "arrowcolor": "#2a3f5f",
                      "arrowhead": 0,
                      "arrowwidth": 1
                    },
                    "autotypenumbers": "strict",
                    "coloraxis": {
                      "colorbar": {
                        "outlinewidth": 0,
                        "ticks": ""
                      }
                    },
                    "colorscale": {
                      "diverging": [
                        [
                          0,
                          "#8e0152"
                        ],
                        [
                          0.1,
                          "#c51b7d"
                        ],
                        [
                          0.2,
                          "#de77ae"
                        ],
                        [
                          0.3,
                          "#f1b6da"
                        ],
                        [
                          0.4,
                          "#fde0ef"
                        ],
                        [
                          0.5,
                          "#f7f7f7"
                        ],
                        [
                          0.6,
                          "#e6f5d0"
                        ],
                        [
                          0.7,
                          "#b8e186"
                        ],
                        [
                          0.8,
                          "#7fbc41"
                        ],
                        [
                          0.9,
                          "#4d9221"
                        ],
                        [
                          1,
                          "#276419"
                        ]
                      ],
                      "sequential": [
                        [
                          0,
                          "#0d0887"
                        ],
                        [
                          0.1111111111111111,
                          "#46039f"
                        ],
                        [
                          0.2222222222222222,
                          "#7201a8"
                        ],
                        [
                          0.3333333333333333,
                          "#9c179e"
                        ],
                        [
                          0.4444444444444444,
                          "#bd3786"
                        ],
                        [
                          0.5555555555555556,
                          "#d8576b"
                        ],
                        [
                          0.6666666666666666,
                          "#ed7953"
                        ],
                        [
                          0.7777777777777778,
                          "#fb9f3a"
                        ],
                        [
                          0.8888888888888888,
                          "#fdca26"
                        ],
                        [
                          1,
                          "#f0f921"
                        ]
                      ],
                      "sequentialminus": [
                        [
                          0,
                          "#0d0887"
                        ],
                        [
                          0.1111111111111111,
                          "#46039f"
                        ],
                        [
                          0.2222222222222222,
                          "#7201a8"
                        ],
                        [
                          0.3333333333333333,
                          "#9c179e"
                        ],
                        [
                          0.4444444444444444,
                          "#bd3786"
                        ],
                        [
                          0.5555555555555556,
                          "#d8576b"
                        ],
                        [
                          0.6666666666666666,
                          "#ed7953"
                        ],
                        [
                          0.7777777777777778,
                          "#fb9f3a"
                        ],
                        [
                          0.8888888888888888,
                          "#fdca26"
                        ],
                        [
                          1,
                          "#f0f921"
                        ]
                      ]
                    },
                    "colorway": [
                      "#636efa",
                      "#EF553B",
                      "#00cc96",
                      "#ab63fa",
                      "#FFA15A",
                      "#19d3f3",
                      "#FF6692",
                      "#B6E880",
                      "#FF97FF",
                      "#FECB52"
                    ],
                    "font": {
                      "color": "#2a3f5f"
                    },
                    "geo": {
                      "bgcolor": "white",
                      "lakecolor": "white",
                      "landcolor": "#E5ECF6",
                      "showlakes": true,
                      "showland": true,
                      "subunitcolor": "white"
                    },
                    "hoverlabel": {
                      "align": "left"
                    },
                    "hovermode": "closest",
                    "mapbox": {
                      "style": "light"
                    },
                    "paper_bgcolor": "white",
                    "plot_bgcolor": "#E5ECF6",
                    "polar": {
                      "angularaxis": {
                        "gridcolor": "white",
                        "linecolor": "white",
                        "ticks": ""
                      },
                      "bgcolor": "#E5ECF6",
                      "radialaxis": {
                        "gridcolor": "white",
                        "linecolor": "white",
                        "ticks": ""
                      }
                    },
                    "scene": {
                      "xaxis": {
                        "backgroundcolor": "#E5ECF6",
                        "gridcolor": "white",
                        "gridwidth": 2,
                        "linecolor": "white",
                        "showbackground": true,
                        "ticks": "",
                        "zerolinecolor": "white"
                      },
                      "yaxis": {
                        "backgroundcolor": "#E5ECF6",
                        "gridcolor": "white",
                        "gridwidth": 2,
                        "linecolor": "white",
                        "showbackground": true,
                        "ticks": "",
                        "zerolinecolor": "white"
                      },
                      "zaxis": {
                        "backgroundcolor": "#E5ECF6",
                        "gridcolor": "white",
                        "gridwidth": 2,
                        "linecolor": "white",
                        "showbackground": true,
                        "ticks": "",
                        "zerolinecolor": "white"
                      }
                    },
                    "shapedefaults": {
                      "line": {
                        "color": "#2a3f5f"
                      }
                    },
                    "ternary": {
                      "aaxis": {
                        "gridcolor": "white",
                        "linecolor": "white",
                        "ticks": ""
                      },
                      "baxis": {
                        "gridcolor": "white",
                        "linecolor": "white",
                        "ticks": ""
                      },
                      "bgcolor": "#E5ECF6",
                      "caxis": {
                        "gridcolor": "white",
                        "linecolor": "white",
                        "ticks": ""
                      }
                    },
                    "title": {
                      "x": 0.05
                    },
                    "xaxis": {
                      "automargin": true,
                      "gridcolor": "white",
                      "linecolor": "white",
                      "ticks": "",
                      "title": {
                        "standoff": 15
                      },
                      "zerolinecolor": "white",
                      "zerolinewidth": 2
                    },
                    "yaxis": {
                      "automargin": true,
                      "gridcolor": "white",
                      "linecolor": "white",
                      "ticks": "",
                      "title": {
                        "standoff": 15
                      },
                      "zerolinecolor": "white",
                      "zerolinewidth": 2
                    }
                  }
                },
                "title": {
                  "text": "Divisão Custos VR Empresa vs Colab"
                },
                "uniformtext": {
                  "minsize": 14,
                  "mode": "hide"
                }
              }
            }
          },
          "metadata": {},
          "output_type": "display_data"
        }
      ],
      "source": [
        "import plotly.express as px\n",
        "import plotly.graph_objects as go\n",
        "\n",
        "# Data for the pie chart\n",
        "categories = [\"Empresa\", \"Colaborador\"]\n",
        "valores = [1056888, 264222]\n",
        "percentuais = [80, 20]\n",
        "\n",
        "# Format values more precisely\n",
        "valor_empresa = \"1.057m\"\n",
        "valor_colab = \"0.264m\"\n",
        "\n",
        "# Create custom hover text with full information\n",
        "hover_text = [\n",
        "    f\"Empresa<br>80%<br>R$ {valor_empresa}\",\n",
        "    f\"Colaborador<br>20%<br>R$ {valor_colab}\"\n",
        "]\n",
        "\n",
        "# Create pie chart with labels outside to avoid cramping\n",
        "fig = go.Figure(data=[go.Pie(\n",
        "    labels=categories,\n",
        "    values=valores,\n",
        "    text=[f\"{perc}%<br>R$ {val}\" for perc, val in zip(percentuais, [valor_empresa, valor_colab])],\n",
        "    textinfo='label+text',\n",
        "    textposition='outside',\n",
        "    hovertext=hover_text,\n",
        "    hoverinfo='text',\n",
        "    marker=dict(colors=['#1FB8CD', '#DB4545'])\n",
        ")])\n",
        "\n",
        "# Update layout\n",
        "fig.update_layout(\n",
        "    title=\"Divisão Custos VR Empresa vs Colab\",\n",
        "    uniformtext_minsize=14, \n",
        "    uniformtext_mode='hide'\n",
        ")\n",
        "\n",
        "\n",
        "fig.show()\n",
        "# Save as PNG\n",
        "\n",
        "fig.write_image(\"vr_costs_division.png\")"
      ]
    },
    {
      "cell_type": "code",
      "execution_count": 17,
      "metadata": {},
      "outputs": [
        {
          "data": {
            "application/vnd.plotly.v1+json": {
              "config": {
                "plotlyServerURL": "https://plot.ly"
              },
              "data": [
                {
                  "cliponaxis": false,
                  "marker": {
                    "color": "#1FB8CD"
                  },
                  "orientation": "h",
                  "text": [
                    "39",
                    "33",
                    "27",
                    "20",
                    "12",
                    "4"
                  ],
                  "textposition": "outside",
                  "type": "bar",
                  "x": [
                    39,
                    33,
                    27,
                    20,
                    12,
                    4
                  ],
                  "y": [
                    "Deslig. até 15",
                    "Aprendizes",
                    "Estagiários",
                    "Afast./Licenças",
                    "Deslig. propor.",
                    "Exterior"
                  ]
                }
              ],
              "layout": {
                "template": {
                  "data": {
                    "bar": [
                      {
                        "error_x": {
                          "color": "#2a3f5f"
                        },
                        "error_y": {
                          "color": "#2a3f5f"
                        },
                        "marker": {
                          "line": {
                            "color": "#E5ECF6",
                            "width": 0.5
                          },
                          "pattern": {
                            "fillmode": "overlay",
                            "size": 10,
                            "solidity": 0.2
                          }
                        },
                        "type": "bar"
                      }
                    ],
                    "barpolar": [
                      {
                        "marker": {
                          "line": {
                            "color": "#E5ECF6",
                            "width": 0.5
                          },
                          "pattern": {
                            "fillmode": "overlay",
                            "size": 10,
                            "solidity": 0.2
                          }
                        },
                        "type": "barpolar"
                      }
                    ],
                    "carpet": [
                      {
                        "aaxis": {
                          "endlinecolor": "#2a3f5f",
                          "gridcolor": "white",
                          "linecolor": "white",
                          "minorgridcolor": "white",
                          "startlinecolor": "#2a3f5f"
                        },
                        "baxis": {
                          "endlinecolor": "#2a3f5f",
                          "gridcolor": "white",
                          "linecolor": "white",
                          "minorgridcolor": "white",
                          "startlinecolor": "#2a3f5f"
                        },
                        "type": "carpet"
                      }
                    ],
                    "choropleth": [
                      {
                        "colorbar": {
                          "outlinewidth": 0,
                          "ticks": ""
                        },
                        "type": "choropleth"
                      }
                    ],
                    "contour": [
                      {
                        "colorbar": {
                          "outlinewidth": 0,
                          "ticks": ""
                        },
                        "colorscale": [
                          [
                            0,
                            "#0d0887"
                          ],
                          [
                            0.1111111111111111,
                            "#46039f"
                          ],
                          [
                            0.2222222222222222,
                            "#7201a8"
                          ],
                          [
                            0.3333333333333333,
                            "#9c179e"
                          ],
                          [
                            0.4444444444444444,
                            "#bd3786"
                          ],
                          [
                            0.5555555555555556,
                            "#d8576b"
                          ],
                          [
                            0.6666666666666666,
                            "#ed7953"
                          ],
                          [
                            0.7777777777777778,
                            "#fb9f3a"
                          ],
                          [
                            0.8888888888888888,
                            "#fdca26"
                          ],
                          [
                            1,
                            "#f0f921"
                          ]
                        ],
                        "type": "contour"
                      }
                    ],
                    "contourcarpet": [
                      {
                        "colorbar": {
                          "outlinewidth": 0,
                          "ticks": ""
                        },
                        "type": "contourcarpet"
                      }
                    ],
                    "heatmap": [
                      {
                        "colorbar": {
                          "outlinewidth": 0,
                          "ticks": ""
                        },
                        "colorscale": [
                          [
                            0,
                            "#0d0887"
                          ],
                          [
                            0.1111111111111111,
                            "#46039f"
                          ],
                          [
                            0.2222222222222222,
                            "#7201a8"
                          ],
                          [
                            0.3333333333333333,
                            "#9c179e"
                          ],
                          [
                            0.4444444444444444,
                            "#bd3786"
                          ],
                          [
                            0.5555555555555556,
                            "#d8576b"
                          ],
                          [
                            0.6666666666666666,
                            "#ed7953"
                          ],
                          [
                            0.7777777777777778,
                            "#fb9f3a"
                          ],
                          [
                            0.8888888888888888,
                            "#fdca26"
                          ],
                          [
                            1,
                            "#f0f921"
                          ]
                        ],
                        "type": "heatmap"
                      }
                    ],
                    "histogram": [
                      {
                        "marker": {
                          "pattern": {
                            "fillmode": "overlay",
                            "size": 10,
                            "solidity": 0.2
                          }
                        },
                        "type": "histogram"
                      }
                    ],
                    "histogram2d": [
                      {
                        "colorbar": {
                          "outlinewidth": 0,
                          "ticks": ""
                        },
                        "colorscale": [
                          [
                            0,
                            "#0d0887"
                          ],
                          [
                            0.1111111111111111,
                            "#46039f"
                          ],
                          [
                            0.2222222222222222,
                            "#7201a8"
                          ],
                          [
                            0.3333333333333333,
                            "#9c179e"
                          ],
                          [
                            0.4444444444444444,
                            "#bd3786"
                          ],
                          [
                            0.5555555555555556,
                            "#d8576b"
                          ],
                          [
                            0.6666666666666666,
                            "#ed7953"
                          ],
                          [
                            0.7777777777777778,
                            "#fb9f3a"
                          ],
                          [
                            0.8888888888888888,
                            "#fdca26"
                          ],
                          [
                            1,
                            "#f0f921"
                          ]
                        ],
                        "type": "histogram2d"
                      }
                    ],
                    "histogram2dcontour": [
                      {
                        "colorbar": {
                          "outlinewidth": 0,
                          "ticks": ""
                        },
                        "colorscale": [
                          [
                            0,
                            "#0d0887"
                          ],
                          [
                            0.1111111111111111,
                            "#46039f"
                          ],
                          [
                            0.2222222222222222,
                            "#7201a8"
                          ],
                          [
                            0.3333333333333333,
                            "#9c179e"
                          ],
                          [
                            0.4444444444444444,
                            "#bd3786"
                          ],
                          [
                            0.5555555555555556,
                            "#d8576b"
                          ],
                          [
                            0.6666666666666666,
                            "#ed7953"
                          ],
                          [
                            0.7777777777777778,
                            "#fb9f3a"
                          ],
                          [
                            0.8888888888888888,
                            "#fdca26"
                          ],
                          [
                            1,
                            "#f0f921"
                          ]
                        ],
                        "type": "histogram2dcontour"
                      }
                    ],
                    "mesh3d": [
                      {
                        "colorbar": {
                          "outlinewidth": 0,
                          "ticks": ""
                        },
                        "type": "mesh3d"
                      }
                    ],
                    "parcoords": [
                      {
                        "line": {
                          "colorbar": {
                            "outlinewidth": 0,
                            "ticks": ""
                          }
                        },
                        "type": "parcoords"
                      }
                    ],
                    "pie": [
                      {
                        "automargin": true,
                        "type": "pie"
                      }
                    ],
                    "scatter": [
                      {
                        "fillpattern": {
                          "fillmode": "overlay",
                          "size": 10,
                          "solidity": 0.2
                        },
                        "type": "scatter"
                      }
                    ],
                    "scatter3d": [
                      {
                        "line": {
                          "colorbar": {
                            "outlinewidth": 0,
                            "ticks": ""
                          }
                        },
                        "marker": {
                          "colorbar": {
                            "outlinewidth": 0,
                            "ticks": ""
                          }
                        },
                        "type": "scatter3d"
                      }
                    ],
                    "scattercarpet": [
                      {
                        "marker": {
                          "colorbar": {
                            "outlinewidth": 0,
                            "ticks": ""
                          }
                        },
                        "type": "scattercarpet"
                      }
                    ],
                    "scattergeo": [
                      {
                        "marker": {
                          "colorbar": {
                            "outlinewidth": 0,
                            "ticks": ""
                          }
                        },
                        "type": "scattergeo"
                      }
                    ],
                    "scattergl": [
                      {
                        "marker": {
                          "colorbar": {
                            "outlinewidth": 0,
                            "ticks": ""
                          }
                        },
                        "type": "scattergl"
                      }
                    ],
                    "scattermap": [
                      {
                        "marker": {
                          "colorbar": {
                            "outlinewidth": 0,
                            "ticks": ""
                          }
                        },
                        "type": "scattermap"
                      }
                    ],
                    "scattermapbox": [
                      {
                        "marker": {
                          "colorbar": {
                            "outlinewidth": 0,
                            "ticks": ""
                          }
                        },
                        "type": "scattermapbox"
                      }
                    ],
                    "scatterpolar": [
                      {
                        "marker": {
                          "colorbar": {
                            "outlinewidth": 0,
                            "ticks": ""
                          }
                        },
                        "type": "scatterpolar"
                      }
                    ],
                    "scatterpolargl": [
                      {
                        "marker": {
                          "colorbar": {
                            "outlinewidth": 0,
                            "ticks": ""
                          }
                        },
                        "type": "scatterpolargl"
                      }
                    ],
                    "scatterternary": [
                      {
                        "marker": {
                          "colorbar": {
                            "outlinewidth": 0,
                            "ticks": ""
                          }
                        },
                        "type": "scatterternary"
                      }
                    ],
                    "surface": [
                      {
                        "colorbar": {
                          "outlinewidth": 0,
                          "ticks": ""
                        },
                        "colorscale": [
                          [
                            0,
                            "#0d0887"
                          ],
                          [
                            0.1111111111111111,
                            "#46039f"
                          ],
                          [
                            0.2222222222222222,
                            "#7201a8"
                          ],
                          [
                            0.3333333333333333,
                            "#9c179e"
                          ],
                          [
                            0.4444444444444444,
                            "#bd3786"
                          ],
                          [
                            0.5555555555555556,
                            "#d8576b"
                          ],
                          [
                            0.6666666666666666,
                            "#ed7953"
                          ],
                          [
                            0.7777777777777778,
                            "#fb9f3a"
                          ],
                          [
                            0.8888888888888888,
                            "#fdca26"
                          ],
                          [
                            1,
                            "#f0f921"
                          ]
                        ],
                        "type": "surface"
                      }
                    ],
                    "table": [
                      {
                        "cells": {
                          "fill": {
                            "color": "#EBF0F8"
                          },
                          "line": {
                            "color": "white"
                          }
                        },
                        "header": {
                          "fill": {
                            "color": "#C8D4E3"
                          },
                          "line": {
                            "color": "white"
                          }
                        },
                        "type": "table"
                      }
                    ]
                  },
                  "layout": {
                    "annotationdefaults": {
                      "arrowcolor": "#2a3f5f",
                      "arrowhead": 0,
                      "arrowwidth": 1
                    },
                    "autotypenumbers": "strict",
                    "coloraxis": {
                      "colorbar": {
                        "outlinewidth": 0,
                        "ticks": ""
                      }
                    },
                    "colorscale": {
                      "diverging": [
                        [
                          0,
                          "#8e0152"
                        ],
                        [
                          0.1,
                          "#c51b7d"
                        ],
                        [
                          0.2,
                          "#de77ae"
                        ],
                        [
                          0.3,
                          "#f1b6da"
                        ],
                        [
                          0.4,
                          "#fde0ef"
                        ],
                        [
                          0.5,
                          "#f7f7f7"
                        ],
                        [
                          0.6,
                          "#e6f5d0"
                        ],
                        [
                          0.7,
                          "#b8e186"
                        ],
                        [
                          0.8,
                          "#7fbc41"
                        ],
                        [
                          0.9,
                          "#4d9221"
                        ],
                        [
                          1,
                          "#276419"
                        ]
                      ],
                      "sequential": [
                        [
                          0,
                          "#0d0887"
                        ],
                        [
                          0.1111111111111111,
                          "#46039f"
                        ],
                        [
                          0.2222222222222222,
                          "#7201a8"
                        ],
                        [
                          0.3333333333333333,
                          "#9c179e"
                        ],
                        [
                          0.4444444444444444,
                          "#bd3786"
                        ],
                        [
                          0.5555555555555556,
                          "#d8576b"
                        ],
                        [
                          0.6666666666666666,
                          "#ed7953"
                        ],
                        [
                          0.7777777777777778,
                          "#fb9f3a"
                        ],
                        [
                          0.8888888888888888,
                          "#fdca26"
                        ],
                        [
                          1,
                          "#f0f921"
                        ]
                      ],
                      "sequentialminus": [
                        [
                          0,
                          "#0d0887"
                        ],
                        [
                          0.1111111111111111,
                          "#46039f"
                        ],
                        [
                          0.2222222222222222,
                          "#7201a8"
                        ],
                        [
                          0.3333333333333333,
                          "#9c179e"
                        ],
                        [
                          0.4444444444444444,
                          "#bd3786"
                        ],
                        [
                          0.5555555555555556,
                          "#d8576b"
                        ],
                        [
                          0.6666666666666666,
                          "#ed7953"
                        ],
                        [
                          0.7777777777777778,
                          "#fb9f3a"
                        ],
                        [
                          0.8888888888888888,
                          "#fdca26"
                        ],
                        [
                          1,
                          "#f0f921"
                        ]
                      ]
                    },
                    "colorway": [
                      "#636efa",
                      "#EF553B",
                      "#00cc96",
                      "#ab63fa",
                      "#FFA15A",
                      "#19d3f3",
                      "#FF6692",
                      "#B6E880",
                      "#FF97FF",
                      "#FECB52"
                    ],
                    "font": {
                      "color": "#2a3f5f"
                    },
                    "geo": {
                      "bgcolor": "white",
                      "lakecolor": "white",
                      "landcolor": "#E5ECF6",
                      "showlakes": true,
                      "showland": true,
                      "subunitcolor": "white"
                    },
                    "hoverlabel": {
                      "align": "left"
                    },
                    "hovermode": "closest",
                    "mapbox": {
                      "style": "light"
                    },
                    "paper_bgcolor": "white",
                    "plot_bgcolor": "#E5ECF6",
                    "polar": {
                      "angularaxis": {
                        "gridcolor": "white",
                        "linecolor": "white",
                        "ticks": ""
                      },
                      "bgcolor": "#E5ECF6",
                      "radialaxis": {
                        "gridcolor": "white",
                        "linecolor": "white",
                        "ticks": ""
                      }
                    },
                    "scene": {
                      "xaxis": {
                        "backgroundcolor": "#E5ECF6",
                        "gridcolor": "white",
                        "gridwidth": 2,
                        "linecolor": "white",
                        "showbackground": true,
                        "ticks": "",
                        "zerolinecolor": "white"
                      },
                      "yaxis": {
                        "backgroundcolor": "#E5ECF6",
                        "gridcolor": "white",
                        "gridwidth": 2,
                        "linecolor": "white",
                        "showbackground": true,
                        "ticks": "",
                        "zerolinecolor": "white"
                      },
                      "zaxis": {
                        "backgroundcolor": "#E5ECF6",
                        "gridcolor": "white",
                        "gridwidth": 2,
                        "linecolor": "white",
                        "showbackground": true,
                        "ticks": "",
                        "zerolinecolor": "white"
                      }
                    },
                    "shapedefaults": {
                      "line": {
                        "color": "#2a3f5f"
                      }
                    },
                    "ternary": {
                      "aaxis": {
                        "gridcolor": "white",
                        "linecolor": "white",
                        "ticks": ""
                      },
                      "baxis": {
                        "gridcolor": "white",
                        "linecolor": "white",
                        "ticks": ""
                      },
                      "bgcolor": "#E5ECF6",
                      "caxis": {
                        "gridcolor": "white",
                        "linecolor": "white",
                        "ticks": ""
                      }
                    },
                    "title": {
                      "x": 0.05
                    },
                    "xaxis": {
                      "automargin": true,
                      "gridcolor": "white",
                      "linecolor": "white",
                      "ticks": "",
                      "title": {
                        "standoff": 15
                      },
                      "zerolinecolor": "white",
                      "zerolinewidth": 2
                    },
                    "yaxis": {
                      "automargin": true,
                      "gridcolor": "white",
                      "linecolor": "white",
                      "ticks": "",
                      "title": {
                        "standoff": 15
                      },
                      "zerolinecolor": "white",
                      "zerolinewidth": 2
                    }
                  }
                },
                "title": {
                  "text": "Exclusões VR por Categoria"
                },
                "xaxis": {
                  "showgrid": true,
                  "title": {
                    "text": "Quantidade"
                  }
                },
                "yaxis": {
                  "showgrid": false,
                  "title": {
                    "text": "Categorias"
                  }
                }
              }
            }
          },
          "metadata": {},
          "output_type": "display_data"
        }
      ],
      "source": [
        "import plotly.graph_objects as go\n",
        "import plotly.io as pio\n",
        "\n",
        "# Data from the provided JSON\n",
        "categorias = [\"Desligados até dia 15\", \"Aprendizes\", \"Estagiários\", \"Afastados/Licenças\", \"Desligados proporcional\", \"Exterior\"]\n",
        "quantidades = [39, 33, 27, 20, 12, 4]\n",
        "\n",
        "# Abbreviate category names to fit 15-character limit\n",
        "categorias_abrev = [\"Deslig. até 15\", \"Aprendizes\", \"Estagiários\", \"Afast./Licenças\", \"Deslig. propor.\", \"Exterior\"]\n",
        "\n",
        "# Create horizontal bar chart\n",
        "fig = go.Figure(go.Bar(\n",
        "    x=quantidades,\n",
        "    y=categorias_abrev,\n",
        "    orientation='h',\n",
        "    marker_color='#1FB8CD',  # Using the first brand color\n",
        "    text=quantidades,\n",
        "    textposition='outside',\n",
        "    cliponaxis=False\n",
        "))\n",
        "\n",
        "# Update layout\n",
        "fig.update_layout(\n",
        "    title=\"Exclusões VR por Categoria\",\n",
        "    xaxis_title=\"Quantidade\",\n",
        "    yaxis_title=\"Categorias\"\n",
        ")\n",
        "\n",
        "# Update axes\n",
        "fig.update_xaxes(showgrid=True)\n",
        "fig.update_yaxes(showgrid=False)\n",
        "\n",
        "fig.show()\n",
        "# Save as PNG\n",
        "fig.write_image(\"exclusoes_vr_categorias.png\")"
      ]
    },
    {
      "cell_type": "markdown",
      "metadata": {},
      "source": [
        "---\n",
        "\n",
        "## Conclusão\n",
        "\n",
        "Este notebook automatiza completamente o processo de cálculo e compra de Vale Refeição, incluindo:\n",
        "\n",
        "✅ **Consolidação de bases de dados múltiplas**  \n",
        "✅ **Aplicação de regras de negócio e exclusões**  \n",
        "✅ **Cálculo automático de dias e valores**  \n",
        "✅ **Geração de planilha para fornecedor**  \n",
        "✅ **Relatório completo de validações**  \n",
        "✅ **Função reutilizável para uso mensal**  \n",
        "\n",
        "### Benefícios Alcançados:\n",
        "- **Eliminação do processo manual** (economia de horas de trabalho)\n",
        "- **Redução significativa de erros** através de cálculos automatizados\n",
        "- **Padronização** do processo com regras consistentes\n",
        "- **Rastreabilidade completa** de todos os cálculos\n",
        "- **Conformidade** com acordos coletivos e regulamentações\n",
        "\n",
        "### Para Uso Mensal:\n",
        "1. Atualize os arquivos Excel com dados do mês corrente\n",
        "2. Execute a função `automatizar_vr_mensal()`\n",
        "3. Revise os resultados e validações\n",
        "4. Envie a planilha final para o fornecedor\n",
        "\n",
        "**Data de Criação:** 18/08/2025  \n",
        "**Versão:** 1.0  \n",
        "**Competência Processada:** Maio/2025"
      ]
    }
  ],
  "metadata": {
    "kernelspec": {
      "display_name": "Python 3",
      "language": "python",
      "name": "python3"
    },
    "language_info": {
      "codemirror_mode": {
        "name": "ipython",
        "version": 3
      },
      "file_extension": ".py",
      "mimetype": "text/x-python",
      "name": "python",
      "nbconvert_exporter": "python",
      "pygments_lexer": "ipython3",
      "version": "3.11.9"
    }
  },
  "nbformat": 4,
  "nbformat_minor": 4
}
